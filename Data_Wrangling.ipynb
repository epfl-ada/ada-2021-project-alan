{
  "nbformat": 4,
  "nbformat_minor": 0,
  "metadata": {
    "colab": {
      "name": "Data Wrangling.ipynb",
      "provenance": [],
      "collapsed_sections": [],
      "toc_visible": true
    },
    "kernelspec": {
      "display_name": "Python 3",
      "name": "python3"
    },
    "language_info": {
      "name": "python"
    }
  },
  "cells": [
    {
      "cell_type": "markdown",
      "metadata": {
        "id": "BEMR6c4U0LBb"
      },
      "source": [
        "# Contents"
      ]
    },
    {
      "cell_type": "markdown",
      "metadata": {
        "id": "VC8cK6Gs0NEQ"
      },
      "source": [
        "1. [Data Wrangling](#1.-Data-Wrangling)  \n",
        "    1.1. [Data reading](#1.1.-Data-reading)  \n",
        "    1.2. [Data cleaning](#1.2.-Data-cleaning)  \n",
        "    1.3. [Filtering for politicians](#1.3.-Filtering-for-politicians)  \n",
        "    1.4. [Interlude - Does our assumption make sense?](#1.4.-Interlude---Does-our-assumption-make-sense?)  \n",
        "    1.5. [Extract domains](#1.5.-Extract-domains)  \n",
        "    1.6. [Saving data](#1.6.-Saving-data)  \n",
        "    1.7. [Scaling up](#1.7.-Scaling-up)"
      ]
    },
    {
      "cell_type": "markdown",
      "metadata": {
        "id": "wDOmxBALUGg3"
      },
      "source": [
        "# **1. Data Wrangling**"
      ]
    },
    {
      "cell_type": "markdown",
      "metadata": {
        "id": "ql2lxtluULBk"
      },
      "source": [
        "To deal with the size of Quotebank we decided to build our pipeline on top of Apache Spark, the de-facto standard framework for big data processing. \n",
        "\n",
        "With respect to Pandas, which is single-threaded, Spark is inherently **multi-threaded** and can allow for a better use of all the cores of the machine. Moreover, instead of trying to fit all the data in the local RAM, Spark split up by default the data into small chunks, which are processed independently and can be temporarly **stored on disk** [[1]](https://towardsdatascience.com/spark-vs-pandas-part-2-spark-c57f8ea3a781). Finally, Spark uses a _lazy execution_ model, processing the data not when an operation is applied but only when the result is required, optimizing the steps in the meanwhile.\n",
        "\n",
        "In particular, we will use the recently added support for **pandas API** (pyspark.pandas, needs `pyspark==3.2.0`), which allow to take advantage of Spark scalability with the familiar syntax of pandas. "
      ]
    },
    {
      "cell_type": "code",
      "metadata": {
        "colab": {
          "base_uri": "https://localhost:8080/"
        },
        "id": "tzZKky48YbD3",
        "outputId": "c6a77340-25a3-4c2d-d2e3-68fc4df89cd4"
      },
      "source": [
        "!pip install pyspark\n",
        "!pip install pyspark[pandas_on_spark] plotly"
      ],
      "execution_count": 1,
      "outputs": [
        {
          "output_type": "stream",
          "name": "stdout",
          "text": [
            "Requirement already satisfied: pyspark in /usr/local/lib/python3.7/dist-packages (3.2.0)\n",
            "Requirement already satisfied: py4j==0.10.9.2 in /usr/local/lib/python3.7/dist-packages (from pyspark) (0.10.9.2)\n",
            "Requirement already satisfied: pyspark[pandas_on_spark] in /usr/local/lib/python3.7/dist-packages (3.2.0)\n",
            "Requirement already satisfied: plotly in /usr/local/lib/python3.7/dist-packages (4.4.1)\n",
            "Requirement already satisfied: retrying>=1.3.3 in /usr/local/lib/python3.7/dist-packages (from plotly) (1.3.3)\n",
            "Requirement already satisfied: six in /usr/local/lib/python3.7/dist-packages (from plotly) (1.15.0)\n",
            "Requirement already satisfied: py4j==0.10.9.2 in /usr/local/lib/python3.7/dist-packages (from pyspark[pandas_on_spark]) (0.10.9.2)\n",
            "Requirement already satisfied: numpy>=1.14 in /usr/local/lib/python3.7/dist-packages (from pyspark[pandas_on_spark]) (1.19.5)\n",
            "Requirement already satisfied: pandas>=0.23.2 in /usr/local/lib/python3.7/dist-packages (from pyspark[pandas_on_spark]) (1.1.5)\n",
            "Requirement already satisfied: pyarrow>=1.0.0 in /usr/local/lib/python3.7/dist-packages (from pyspark[pandas_on_spark]) (3.0.0)\n",
            "Requirement already satisfied: python-dateutil>=2.7.3 in /usr/local/lib/python3.7/dist-packages (from pandas>=0.23.2->pyspark[pandas_on_spark]) (2.8.2)\n",
            "Requirement already satisfied: pytz>=2017.2 in /usr/local/lib/python3.7/dist-packages (from pandas>=0.23.2->pyspark[pandas_on_spark]) (2018.9)\n"
          ]
        }
      ]
    },
    {
      "cell_type": "code",
      "metadata": {
        "colab": {
          "base_uri": "https://localhost:8080/"
        },
        "id": "q9lbSAXuantT",
        "outputId": "8376839e-0343-4de3-e518-ac226cca2858"
      },
      "source": [
        "# Mount Google Drive\n",
        "from google.colab import drive\n",
        "drive.mount('/content/drive')"
      ],
      "execution_count": 2,
      "outputs": [
        {
          "output_type": "stream",
          "name": "stdout",
          "text": [
            "Drive already mounted at /content/drive; to attempt to forcibly remount, call drive.mount(\"/content/drive\", force_remount=True).\n"
          ]
        }
      ]
    },
    {
      "cell_type": "code",
      "metadata": {
        "id": "r-AHIti2Y3pT"
      },
      "source": [
        "import os\n",
        "# Requirement to import pyspark.pandas - setting env variable PYARROW_IGNORE_TIMEZONE to 1\n",
        "os.environ[\"PYARROW_IGNORE_TIMEZONE\"] = \"1\"\n",
        "\n",
        "import numpy as np\n",
        "import pandas as pd\n",
        "import matplotlib.pyplot as plt\n",
        "import seaborn as sns\n",
        "import pyspark.pandas as ps"
      ],
      "execution_count": 3,
      "outputs": []
    },
    {
      "cell_type": "code",
      "metadata": {
        "id": "E9bgSxUoa1zk"
      },
      "source": [
        "# Should make these generic also to someone who does not have access to our ADA folder\n",
        "quotebank_folder = '/content/drive/MyDrive/ADA/Quotebank/'\n",
        "dataset_folder = '/content/drive/MyDrive/ADA/Project datasets/'\n",
        "preprocess_folder = '/content/drive/MyDrive/ADA/Processed/'\n",
        "wikidata_speakers = os.path.join(dataset_folder, 'speaker_attributes.parquet')\n",
        "wikidata_labels = os.path.join(dataset_folder, 'wikidata_labels_descriptions_quotebank.csv.bz2')"
      ],
      "execution_count": 4,
      "outputs": []
    },
    {
      "cell_type": "markdown",
      "metadata": {
        "id": "LCE1fnGo06BL"
      },
      "source": [
        "## 1.1. Data reading"
      ]
    },
    {
      "cell_type": "markdown",
      "metadata": {
        "id": "EgclOHjraAaz"
      },
      "source": [
        "To test and showcase our preprocessing pipeline, we will use only a small sample of the data and show the result of each step with Pandas. Then, to fully exploit the _lazy execution_ paradigm, we will apply all the operations on the full dataset without showing the partial results, so that Spark can optimize the execution plan under the hood."
      ]
    },
    {
      "cell_type": "code",
      "metadata": {
        "id": "WeJpsuqm_Fxj"
      },
      "source": [
        "filepath = os.path.join(quotebank_folder, 'quotes-2020.json.bz2')\n",
        "samplepath = os.path.join(preprocess_folder, 'quotes-2020-sample.json.bz2')"
      ],
      "execution_count": 5,
      "outputs": []
    },
    {
      "cell_type": "code",
      "metadata": {
        "id": "QrCVzXdXNbMS"
      },
      "source": [
        "# Create a sample from 2020 quotes, if it does not already exists\n",
        "if(not os.path.exists(samplepath)):\n",
        "  df = ps.read_json(filepath, compression='bzip2')\n",
        "  df_short = df.sample(frac=(100000 / 5244449))\n",
        "  df_short.to_json(samplepath, compression='bzip2')\n",
        "\n",
        "df_short = ps.read_json(samplepath, compression='bzip2').to_pandas()"
      ],
      "execution_count": 6,
      "outputs": []
    },
    {
      "cell_type": "code",
      "metadata": {
        "colab": {
          "base_uri": "https://localhost:8080/"
        },
        "id": "QLGoQ4MbJUkF",
        "outputId": "1e4b3dff-b582-4ca6-9dcd-0d93bc554ee0"
      },
      "source": [
        "len(df_short)"
      ],
      "execution_count": 7,
      "outputs": [
        {
          "output_type": "execute_result",
          "data": {
            "text/plain": [
              "99561"
            ]
          },
          "metadata": {},
          "execution_count": 7
        }
      ]
    },
    {
      "cell_type": "markdown",
      "metadata": {
        "id": "BXdUtl8x0mrj"
      },
      "source": [
        "## 1.2. Data cleaning"
      ]
    },
    {
      "cell_type": "code",
      "metadata": {
        "colab": {
          "base_uri": "https://localhost:8080/"
        },
        "id": "UejZIcP5ob-M",
        "outputId": "6c171db9-27e7-436d-e72f-6fc7f3487281"
      },
      "source": [
        "# Drop rows with the same quoteID, keeping only the first in case of duplicates\n",
        "len_before = len(df_short)\n",
        "df_short = df_short.drop_duplicates(subset='quoteID', keep='first')\n",
        "len_after = len(df_short)\n",
        "print(f'Removed {len_before - len_after} duplicates')"
      ],
      "execution_count": 8,
      "outputs": [
        {
          "output_type": "stream",
          "name": "stdout",
          "text": [
            "Removed 0 duplicates\n"
          ]
        }
      ]
    },
    {
      "cell_type": "code",
      "metadata": {
        "id": "XuUWwvhVwD2k"
      },
      "source": [
        "# Drop unused columns\n",
        "df_short = df_short.drop(['numOccurrences', 'phase', 'probas', 'quoteID'], axis=1)"
      ],
      "execution_count": 9,
      "outputs": []
    },
    {
      "cell_type": "code",
      "metadata": {
        "colab": {
          "base_uri": "https://localhost:8080/"
        },
        "id": "yu40hGkY1MjZ",
        "outputId": "e1ab588c-9a33-41fa-87ff-473ed70d7c09"
      },
      "source": [
        "# Drop nans in quotations or speaker\n",
        "len_before = len(df_short)\n",
        "df_short = df_short.dropna(subset=['quotation', 'speaker'])\n",
        "len_after = len(df_short)\n",
        "print(f'Removed {len_before - len_after} rows containing nans')"
      ],
      "execution_count": 10,
      "outputs": [
        {
          "output_type": "stream",
          "name": "stdout",
          "text": [
            "Removed 0 rows containing nans\n"
          ]
        }
      ]
    },
    {
      "cell_type": "code",
      "metadata": {
        "colab": {
          "base_uri": "https://localhost:8080/"
        },
        "id": "O1KSZDlvwtrn",
        "outputId": "5c11b939-39af-444c-9d75-5389bed62287"
      },
      "source": [
        "# Keep only rows with an identified speaker\n",
        "len_before = len(df_short)\n",
        "df_short = df_short[df_short.speaker != 'None']\n",
        "len_after = len(df_short)\n",
        "print(f'Removed {len_before - len_after} rows without speaker')"
      ],
      "execution_count": 11,
      "outputs": [
        {
          "output_type": "stream",
          "name": "stdout",
          "text": [
            "Removed 34104 rows without speaker\n"
          ]
        }
      ]
    },
    {
      "cell_type": "code",
      "metadata": {
        "id": "TfYiusBBFYZo"
      },
      "source": [
        "# Reset index\n",
        "df_short.reset_index(drop=True, inplace=True)"
      ],
      "execution_count": 12,
      "outputs": []
    },
    {
      "cell_type": "code",
      "metadata": {
        "colab": {
          "base_uri": "https://localhost:8080/"
        },
        "id": "DSC3iZDsJcbI",
        "outputId": "21d0e29c-438e-47ee-e5e0-6965656ed7a6"
      },
      "source": [
        "# Print length after cleaning\n",
        "len(df_short)"
      ],
      "execution_count": 13,
      "outputs": [
        {
          "output_type": "execute_result",
          "data": {
            "text/plain": [
              "65457"
            ]
          },
          "metadata": {},
          "execution_count": 13
        }
      ]
    },
    {
      "cell_type": "code",
      "metadata": {
        "colab": {
          "base_uri": "https://localhost:8080/",
          "height": 585
        },
        "id": "TQOvpP3lHCGV",
        "outputId": "e63ee011-f20d-4df5-c1c3-6dd6cd6644fa"
      },
      "source": [
        "df_short"
      ],
      "execution_count": 14,
      "outputs": [
        {
          "output_type": "execute_result",
          "data": {
            "text/html": [
              "<div>\n",
              "<style scoped>\n",
              "    .dataframe tbody tr th:only-of-type {\n",
              "        vertical-align: middle;\n",
              "    }\n",
              "\n",
              "    .dataframe tbody tr th {\n",
              "        vertical-align: top;\n",
              "    }\n",
              "\n",
              "    .dataframe thead th {\n",
              "        text-align: right;\n",
              "    }\n",
              "</style>\n",
              "<table border=\"1\" class=\"dataframe\">\n",
              "  <thead>\n",
              "    <tr style=\"text-align: right;\">\n",
              "      <th></th>\n",
              "      <th>date</th>\n",
              "      <th>qids</th>\n",
              "      <th>quotation</th>\n",
              "      <th>speaker</th>\n",
              "      <th>urls</th>\n",
              "    </tr>\n",
              "  </thead>\n",
              "  <tbody>\n",
              "    <tr>\n",
              "      <th>0</th>\n",
              "      <td>2020-02-16 13:00:00</td>\n",
              "      <td>[Q1286476, Q21285393, Q7436904, Q7436906, Q743...</td>\n",
              "      <td>Now they are leaving it behind.</td>\n",
              "      <td>Scott Morrison</td>\n",
              "      <td>[https://www.coffscoastadvocate.com.au/news/i-...</td>\n",
              "    </tr>\n",
              "    <tr>\n",
              "      <th>1</th>\n",
              "      <td>2020-02-10 13:21:52</td>\n",
              "      <td>[Q44430]</td>\n",
              "      <td>OOOOOOHHHH YEAAAAHHH BOY LET'S GOOO!!</td>\n",
              "      <td>Vince McMahon</td>\n",
              "      <td>[http://bringmethenews.com/minnesota-sports/wi...</td>\n",
              "    </tr>\n",
              "    <tr>\n",
              "      <th>2</th>\n",
              "      <td>2020-03-31 23:03:15</td>\n",
              "      <td>[Q1277017, Q19665390, Q21458602, Q41053943, Q4...</td>\n",
              "      <td>Our people are our priority during this diffic...</td>\n",
              "      <td>Michael Anderson</td>\n",
              "      <td>[http://nzherald.co.nz/business/news/article.c...</td>\n",
              "    </tr>\n",
              "    <tr>\n",
              "      <th>3</th>\n",
              "      <td>2020-01-14 02:09:00</td>\n",
              "      <td>[Q22277803]</td>\n",
              "      <td>She got her film seen and people are recognisi...</td>\n",
              "      <td>Florence Pugh</td>\n",
              "      <td>[http://www.asiaone.com/entertainment/its-most...</td>\n",
              "    </tr>\n",
              "    <tr>\n",
              "      <th>4</th>\n",
              "      <td>2020-02-06 19:46:42</td>\n",
              "      <td>[Q40504]</td>\n",
              "      <td>She has a gift. When she opens her mouth and s...</td>\n",
              "      <td>Jim Carrey</td>\n",
              "      <td>[https://www.bostonherald.com/2020/02/06/jim-c...</td>\n",
              "    </tr>\n",
              "    <tr>\n",
              "      <th>...</th>\n",
              "      <td>...</td>\n",
              "      <td>...</td>\n",
              "      <td>...</td>\n",
              "      <td>...</td>\n",
              "      <td>...</td>\n",
              "    </tr>\n",
              "    <tr>\n",
              "      <th>65452</th>\n",
              "      <td>2020-02-12 04:47:52</td>\n",
              "      <td>[Q3973213, Q7613555, Q7613556]</td>\n",
              "      <td>We all want this stuff gone and one of the mis...</td>\n",
              "      <td>Steve Parry</td>\n",
              "      <td>[http://radionz.co.nz/news/national/409387/gor...</td>\n",
              "    </tr>\n",
              "    <tr>\n",
              "      <th>65453</th>\n",
              "      <td>2020-02-04 11:30:00</td>\n",
              "      <td>[Q3163230, Q6166609]</td>\n",
              "      <td>We are proud to announce the formation of the ...</td>\n",
              "      <td>Jay Ferguson</td>\n",
              "      <td>[https://forextv.com/top-news/vicente-capital-...</td>\n",
              "    </tr>\n",
              "    <tr>\n",
              "      <th>65454</th>\n",
              "      <td>2020-02-27 19:42:52</td>\n",
              "      <td>[Q7367220]</td>\n",
              "      <td>We will be introducing a breakfast sandwich th...</td>\n",
              "      <td>Rosalind Brewer</td>\n",
              "      <td>[https://www.foodbusinessnews.net/articles/155...</td>\n",
              "    </tr>\n",
              "    <tr>\n",
              "      <th>65455</th>\n",
              "      <td>2020-02-17 03:46:38</td>\n",
              "      <td>[Q3431531]</td>\n",
              "      <td>We've played a lot of road games this month ea...</td>\n",
              "      <td>Rick Bowness</td>\n",
              "      <td>[http://sportsday.dallasnews.com/sports/stars/...</td>\n",
              "    </tr>\n",
              "    <tr>\n",
              "      <th>65456</th>\n",
              "      <td>2020-04-06 06:10:00</td>\n",
              "      <td>[Q16234907]</td>\n",
              "      <td>When the virus was announced, the post was slo...</td>\n",
              "      <td>DAVE PETERSEN</td>\n",
              "      <td>[http://coffscoastadvocate.com.au/news/the-cov...</td>\n",
              "    </tr>\n",
              "  </tbody>\n",
              "</table>\n",
              "<p>65457 rows × 5 columns</p>\n",
              "</div>"
            ],
            "text/plain": [
              "                      date  ...                                               urls\n",
              "0      2020-02-16 13:00:00  ...  [https://www.coffscoastadvocate.com.au/news/i-...\n",
              "1      2020-02-10 13:21:52  ...  [http://bringmethenews.com/minnesota-sports/wi...\n",
              "2      2020-03-31 23:03:15  ...  [http://nzherald.co.nz/business/news/article.c...\n",
              "3      2020-01-14 02:09:00  ...  [http://www.asiaone.com/entertainment/its-most...\n",
              "4      2020-02-06 19:46:42  ...  [https://www.bostonherald.com/2020/02/06/jim-c...\n",
              "...                    ...  ...                                                ...\n",
              "65452  2020-02-12 04:47:52  ...  [http://radionz.co.nz/news/national/409387/gor...\n",
              "65453  2020-02-04 11:30:00  ...  [https://forextv.com/top-news/vicente-capital-...\n",
              "65454  2020-02-27 19:42:52  ...  [https://www.foodbusinessnews.net/articles/155...\n",
              "65455  2020-02-17 03:46:38  ...  [http://sportsday.dallasnews.com/sports/stars/...\n",
              "65456  2020-04-06 06:10:00  ...  [http://coffscoastadvocate.com.au/news/the-cov...\n",
              "\n",
              "[65457 rows x 5 columns]"
            ]
          },
          "metadata": {},
          "execution_count": 14
        }
      ]
    },
    {
      "cell_type": "markdown",
      "metadata": {
        "id": "gX70Z0Vg11_n"
      },
      "source": [
        "## 1.3. Filtering for politicians"
      ]
    },
    {
      "cell_type": "markdown",
      "metadata": {
        "id": "9iOCmyHE0Hyq"
      },
      "source": [
        "In a first phase, we are only interested in considering the quotes of US politicians, to extract the most meaningful topics with respect to modern political debate. To do so, we will use information about speakers retrieved from Wikidata dumps. "
      ]
    },
    {
      "cell_type": "code",
      "metadata": {
        "id": "ubfX4a7pyFm3"
      },
      "source": [
        "df_speakers = ps.read_parquet(wikidata_speakers)"
      ],
      "execution_count": 15,
      "outputs": []
    },
    {
      "cell_type": "code",
      "metadata": {
        "colab": {
          "base_uri": "https://localhost:8080/"
        },
        "id": "wVU43lxXEqJl",
        "outputId": "46cfc82b-d300-4749-8314-c43c6d73bbc3"
      },
      "source": [
        "len(df_speakers)"
      ],
      "execution_count": 16,
      "outputs": [
        {
          "output_type": "execute_result",
          "data": {
            "text/plain": [
              "9055981"
            ]
          },
          "metadata": {},
          "execution_count": 16
        }
      ]
    },
    {
      "cell_type": "code",
      "metadata": {
        "colab": {
          "base_uri": "https://localhost:8080/"
        },
        "id": "uMb41vM03ElB",
        "outputId": "e68b312c-a4fe-4f14-d3f2-8e6dd606b62a"
      },
      "source": [
        "df_speakers.columns"
      ],
      "execution_count": 17,
      "outputs": [
        {
          "output_type": "execute_result",
          "data": {
            "text/plain": [
              "Index(['aliases', 'date_of_birth', 'nationality', 'gender', 'lastrevid',\n",
              "       'ethnic_group', 'US_congress_bio_ID', 'occupation', 'party',\n",
              "       'academic_degree', 'id', 'label', 'candidacy', 'type', 'religion'],\n",
              "      dtype='object')"
            ]
          },
          "metadata": {},
          "execution_count": 17
        }
      ]
    },
    {
      "cell_type": "markdown",
      "metadata": {
        "id": "_8htbQqp567f"
      },
      "source": [
        "The occupation of politician corresponds on Wikidata to the Qid [`Q82955`](https://www.wikidata.org/wiki/Q82955), and the US country Qid is [`Q30`](https://www.wikidata.org/wiki/Q30). Also, to keep the quotes relevant to modern political debate, we will only consider politicians born after 1920."
      ]
    },
    {
      "cell_type": "code",
      "metadata": {
        "id": "H1qx46DK9EBi"
      },
      "source": [
        "# Set id as index\n",
        "df_speakers.set_index('id', inplace=True)\n",
        "\n",
        "# Drop all columns but occupation, nationality and date_of_birth, the only ones necessary to identify modern US politicians\n",
        "df_speakers_politicians = df_speakers.drop(df_speakers.columns.difference(['occupation', 'nationality', 'date_of_birth']), axis=1)\n",
        "\n",
        "# Drop all rows without an occupation, a country of citizenship or a date_of_birth\n",
        "df_speakers_politicians = df_speakers_politicians.dropna(subset=['occupation', 'nationality', 'date_of_birth'])\n",
        "\n",
        "# Apply masking.\n",
        "occupations_mask = df_speakers_politicians.occupation.apply(lambda x: 'Q82955' in x)\n",
        "nationality_mask = df_speakers_politicians.nationality.apply(lambda x: 'Q30' in x)\n",
        "birth_mask = df_speakers_politicians.date_of_birth.apply(lambda x: int(x[0][1:].split('-', 1)[0]) > 1920)\n",
        "mask = occupations_mask & nationality_mask & birth_mask\n",
        "df_speakers_politicians = df_speakers_politicians[mask]"
      ],
      "execution_count": 18,
      "outputs": []
    },
    {
      "cell_type": "code",
      "metadata": {
        "id": "crlUkTOl-pnG"
      },
      "source": [
        "# Get Qids of politicians (~1min)\n",
        "politicians_ids = df_speakers_politicians.index.to_numpy()"
      ],
      "execution_count": 19,
      "outputs": []
    },
    {
      "cell_type": "code",
      "metadata": {
        "colab": {
          "base_uri": "https://localhost:8080/"
        },
        "id": "JIUNzAUV4YKl",
        "outputId": "afd64574-cb66-4c33-99b8-404797fa5afc"
      },
      "source": [
        "politicians_ids.size"
      ],
      "execution_count": 20,
      "outputs": [
        {
          "output_type": "execute_result",
          "data": {
            "text/plain": [
              "21715"
            ]
          },
          "metadata": {},
          "execution_count": 20
        }
      ]
    },
    {
      "cell_type": "markdown",
      "metadata": {
        "id": "8tIAphqE_LUP"
      },
      "source": [
        "We can now extract from our Quotebank sample only quotes from politicians. \\\\\n",
        "In general, it is not always possible to assign to each speaker a unique Qid, because different homonyms might exists. In this context, since we are considering only quotes from news articles, the most likely occupation of speakers is politician. Thus, when the Qid is not uniquely assigned, **we will assume that the correct assignement is the Qid corresponding to a politician**, if exists. Rows where more than one Qids correspond to politicians will instead be dropped, because there is no easy way to establish which speaker is the correct one."
      ]
    },
    {
      "cell_type": "code",
      "metadata": {
        "id": "iJfD2hYJEZIG"
      },
      "source": [
        "# Return Qid if among the identified people there is exactly one politician\n",
        "def intersect_politicians(x):\n",
        "  intersection = set(x).intersection(politicians_ids)\n",
        "  if(len(intersection) != 1):\n",
        "    return None\n",
        "  return list(intersection)[0]"
      ],
      "execution_count": 21,
      "outputs": []
    },
    {
      "cell_type": "code",
      "metadata": {
        "id": "CGO5T6MeEJDm"
      },
      "source": [
        "# Create DataFrame of politicians only, selecting qids as explained and dropping other rows\n",
        "df_short_politicians = df_short.copy()\n",
        "df_short_politicians.qids = df_short_politicians.qids.apply(intersect_politicians)"
      ],
      "execution_count": 22,
      "outputs": []
    },
    {
      "cell_type": "code",
      "metadata": {
        "id": "8fTCmHiFGiab"
      },
      "source": [
        "df_short_politicians = df_short_politicians[df_short_politicians.qids.notna()]\n",
        "df_short_politicians.reset_index(drop=True, inplace=True)"
      ],
      "execution_count": 23,
      "outputs": []
    },
    {
      "cell_type": "code",
      "metadata": {
        "colab": {
          "base_uri": "https://localhost:8080/",
          "height": 417
        },
        "id": "BfUTpLYuIor_",
        "outputId": "ecda7562-d32b-4786-ea59-8f457c8ee7c4"
      },
      "source": [
        "df_short_politicians"
      ],
      "execution_count": 24,
      "outputs": [
        {
          "output_type": "execute_result",
          "data": {
            "text/html": [
              "<div>\n",
              "<style scoped>\n",
              "    .dataframe tbody tr th:only-of-type {\n",
              "        vertical-align: middle;\n",
              "    }\n",
              "\n",
              "    .dataframe tbody tr th {\n",
              "        vertical-align: top;\n",
              "    }\n",
              "\n",
              "    .dataframe thead th {\n",
              "        text-align: right;\n",
              "    }\n",
              "</style>\n",
              "<table border=\"1\" class=\"dataframe\">\n",
              "  <thead>\n",
              "    <tr style=\"text-align: right;\">\n",
              "      <th></th>\n",
              "      <th>date</th>\n",
              "      <th>qids</th>\n",
              "      <th>quotation</th>\n",
              "      <th>speaker</th>\n",
              "      <th>urls</th>\n",
              "    </tr>\n",
              "  </thead>\n",
              "  <tbody>\n",
              "    <tr>\n",
              "      <th>0</th>\n",
              "      <td>2020-01-23 22:29:35</td>\n",
              "      <td>Q7687964</td>\n",
              "      <td>Correctional officers received higher pay over...</td>\n",
              "      <td>Tate Reeves</td>\n",
              "      <td>[https://yallpolitics.com/2020/01/23/governor-...</td>\n",
              "    </tr>\n",
              "    <tr>\n",
              "      <th>1</th>\n",
              "      <td>2020-02-26 22:53:36</td>\n",
              "      <td>Q22686</td>\n",
              "      <td>Prime Minister Modi and President Trump commit...</td>\n",
              "      <td>President Donald Trump</td>\n",
              "      <td>[https://www.newkerala.com/news/2020/31253.htm]</td>\n",
              "    </tr>\n",
              "    <tr>\n",
              "      <th>2</th>\n",
              "      <td>2020-03-16 19:17:22</td>\n",
              "      <td>Q13562456</td>\n",
              "      <td>The forces of the status quo have been effecti...</td>\n",
              "      <td>Nina Turner</td>\n",
              "      <td>[http://p.washingtontimes.com/news/2020/mar/16...</td>\n",
              "    </tr>\n",
              "    <tr>\n",
              "      <th>3</th>\n",
              "      <td>2020-02-09 18:22:09</td>\n",
              "      <td>Q22686</td>\n",
              "      <td>The Trump administration has reversed almost a...</td>\n",
              "      <td>Donald Trump</td>\n",
              "      <td>[https://www.alternet.org/2020/02/white-house-...</td>\n",
              "    </tr>\n",
              "    <tr>\n",
              "      <th>4</th>\n",
              "      <td>2020-02-10 00:00:00</td>\n",
              "      <td>Q359442</td>\n",
              "      <td>You cannot take support to billionaires and th...</td>\n",
              "      <td>Bernie Sanders</td>\n",
              "      <td>[https://thiscantbehappening.net/the-red-baiti...</td>\n",
              "    </tr>\n",
              "    <tr>\n",
              "      <th>...</th>\n",
              "      <td>...</td>\n",
              "      <td>...</td>\n",
              "      <td>...</td>\n",
              "      <td>...</td>\n",
              "      <td>...</td>\n",
              "    </tr>\n",
              "    <tr>\n",
              "      <th>9094</th>\n",
              "      <td>2020-03-18 17:31:36</td>\n",
              "      <td>Q11673</td>\n",
              "      <td>That 50% can be calibrated.</td>\n",
              "      <td>Andrew Cuomo</td>\n",
              "      <td>[https://kticradio.com/abc_national/coronaviru...</td>\n",
              "    </tr>\n",
              "    <tr>\n",
              "      <th>9095</th>\n",
              "      <td>2020-03-15 23:03:39</td>\n",
              "      <td>Q4766748</td>\n",
              "      <td>Those of us that do this, and I don't care wha...</td>\n",
              "      <td>Ann Williams</td>\n",
              "      <td>[https://abc17news.com/news/national-world/202...</td>\n",
              "    </tr>\n",
              "    <tr>\n",
              "      <th>9096</th>\n",
              "      <td>2020-03-17 19:56:00</td>\n",
              "      <td>Q6262874</td>\n",
              "      <td>We can email Murphy's SuperValu in Castletownb...</td>\n",
              "      <td>John Walsh</td>\n",
              "      <td>[http://feeds.breakingnews.ie/~r/bnireland/~3/...</td>\n",
              "    </tr>\n",
              "    <tr>\n",
              "      <th>9097</th>\n",
              "      <td>2020-01-15 01:34:53</td>\n",
              "      <td>Q22686</td>\n",
              "      <td>America is the envy of the entire world</td>\n",
              "      <td>President Donald Trump</td>\n",
              "      <td>[https://www.townsvillebulletin.com.au/news/wo...</td>\n",
              "    </tr>\n",
              "    <tr>\n",
              "      <th>9098</th>\n",
              "      <td>2020-02-05 21:11:52</td>\n",
              "      <td>Q359442</td>\n",
              "      <td>the only major manufacturer in the world, in t...</td>\n",
              "      <td>Bernie Sanders</td>\n",
              "      <td>[http://www.politifact.com/article/2020/feb/05...</td>\n",
              "    </tr>\n",
              "  </tbody>\n",
              "</table>\n",
              "<p>9099 rows × 5 columns</p>\n",
              "</div>"
            ],
            "text/plain": [
              "                     date  ...                                               urls\n",
              "0     2020-01-23 22:29:35  ...  [https://yallpolitics.com/2020/01/23/governor-...\n",
              "1     2020-02-26 22:53:36  ...    [https://www.newkerala.com/news/2020/31253.htm]\n",
              "2     2020-03-16 19:17:22  ...  [http://p.washingtontimes.com/news/2020/mar/16...\n",
              "3     2020-02-09 18:22:09  ...  [https://www.alternet.org/2020/02/white-house-...\n",
              "4     2020-02-10 00:00:00  ...  [https://thiscantbehappening.net/the-red-baiti...\n",
              "...                   ...  ...                                                ...\n",
              "9094  2020-03-18 17:31:36  ...  [https://kticradio.com/abc_national/coronaviru...\n",
              "9095  2020-03-15 23:03:39  ...  [https://abc17news.com/news/national-world/202...\n",
              "9096  2020-03-17 19:56:00  ...  [http://feeds.breakingnews.ie/~r/bnireland/~3/...\n",
              "9097  2020-01-15 01:34:53  ...  [https://www.townsvillebulletin.com.au/news/wo...\n",
              "9098  2020-02-05 21:11:52  ...  [http://www.politifact.com/article/2020/feb/05...\n",
              "\n",
              "[9099 rows x 5 columns]"
            ]
          },
          "metadata": {},
          "execution_count": 24
        }
      ]
    },
    {
      "cell_type": "markdown",
      "metadata": {
        "id": "H5RHiL2dQk6S"
      },
      "source": [
        "## 1.4. Interlude - Does our assumption make sense?\n"
      ]
    },
    {
      "cell_type": "markdown",
      "metadata": {
        "id": "zhY2NWktQwq-"
      },
      "source": [
        "To test if our assumption make sense we will analyze the distribution of occupations amongst speakers who correspond to uniquely identified qids, in order to investigate if politician is indeed the most popular occupation."
      ]
    },
    {
      "cell_type": "code",
      "metadata": {
        "id": "wDulOI3jRXmp"
      },
      "source": [
        "# Only consider quotes with a uniquely identify qid\n",
        "df_short_unique = df_short[df_short.qids.apply(lambda x: len(x)) == 1]"
      ],
      "execution_count": 25,
      "outputs": []
    },
    {
      "cell_type": "code",
      "metadata": {
        "id": "oxu7HjlXRmxd"
      },
      "source": [
        "# Get dictionary of {person: occupations}\n",
        "occupations_dict = df_speakers.occupation.dropna().to_dict()"
      ],
      "execution_count": 26,
      "outputs": []
    },
    {
      "cell_type": "code",
      "metadata": {
        "id": "SnjZhP4VRj_7"
      },
      "source": [
        "# Count the occurrencies of each occupation\n",
        "from collections import Counter\n",
        "counter = Counter()\n",
        "for qid in df_short_unique.qids:\n",
        "  try:\n",
        "    occupations = occupations_dict[qid[0]]\n",
        "  except KeyError:\n",
        "    continue\n",
        "  if(occupations):\n",
        "    for occupation in occupations:\n",
        "      counter[occupation] += 1"
      ],
      "execution_count": 27,
      "outputs": []
    },
    {
      "cell_type": "code",
      "metadata": {
        "id": "gIcny3PpGhjG"
      },
      "source": [
        "# Sort the Counter\n",
        "counter = counter.most_common()"
      ],
      "execution_count": 28,
      "outputs": []
    },
    {
      "cell_type": "code",
      "metadata": {
        "colab": {
          "base_uri": "https://localhost:8080/"
        },
        "id": "cIC1vveXS5_m",
        "outputId": "3fe8dde2-3074-4ce3-c662-e874b7a2d63f"
      },
      "source": [
        "counter[:10]"
      ],
      "execution_count": 29,
      "outputs": [
        {
          "output_type": "execute_result",
          "data": {
            "text/plain": [
              "[('Q82955', 14435),\n",
              " ('Q33999', 5676),\n",
              " ('Q36180', 4302),\n",
              " ('Q40348', 4052),\n",
              " ('Q10800557', 3262),\n",
              " ('Q43845', 3203),\n",
              " ('Q10798782', 2981),\n",
              " ('Q937857', 2672),\n",
              " ('Q1930187', 2560),\n",
              " ('Q3282637', 2484)]"
            ]
          },
          "metadata": {},
          "execution_count": 29
        }
      ]
    },
    {
      "cell_type": "markdown",
      "metadata": {
        "id": "6GdsdKYHS-bh"
      },
      "source": [
        "To get a clearer interpretation, we need to remap the qids of occupation with their textual label. Also, since each person can have multiple occupations, we will divide the occurrence of each occupation by the total number of people (the number of rows of the considered database), to analyze which share each occupation has in the sample."
      ]
    },
    {
      "cell_type": "code",
      "metadata": {
        "id": "2rtrQG7sS-CG"
      },
      "source": [
        "# Get dictionary of {occupation qid: label}\n",
        "labels = pd.read_csv(wikidata_labels, compression='bz2')\n",
        "labels.set_index('QID', inplace=True)"
      ],
      "execution_count": 30,
      "outputs": []
    },
    {
      "cell_type": "code",
      "metadata": {
        "id": "_vzXcjEeHJYJ"
      },
      "source": [
        "# Extract list of qids and occurrencies and convert them to np.array\n",
        "qids, occurrencies = list(zip(*counter))\n",
        "qids = np.array(qids)\n",
        "occurrencies = np.array(occurrencies)"
      ],
      "execution_count": 31,
      "outputs": []
    },
    {
      "cell_type": "code",
      "metadata": {
        "id": "vPZopW6jI3TZ"
      },
      "source": [
        "# Remap qids to labels and keep only the first N_POP entries, dividing the occurrencies by the number of people.\n",
        "N_POP = 12\n",
        "labels_popular = labels.loc[qids[:N_POP+1]].Label.values\n",
        "occurrencies_popular = occurrencies[:N_POP+1]  / len(df_short_unique)"
      ],
      "execution_count": 32,
      "outputs": []
    },
    {
      "cell_type": "code",
      "metadata": {
        "colab": {
          "base_uri": "https://localhost:8080/"
        },
        "id": "0ITAhOLNIyjU",
        "outputId": "61bbfdbd-e1b1-41b3-ca81-432bd1cb7902"
      },
      "source": [
        "labels_popular"
      ],
      "execution_count": 33,
      "outputs": [
        {
          "output_type": "execute_result",
          "data": {
            "text/plain": [
              "array(['politician', 'actor', 'writer', 'lawyer', 'film actor',\n",
              "       'businessperson', 'television actor',\n",
              "       'association football player', 'journalist', 'film producer',\n",
              "       'television producer', 'singer', 'television presenter'],\n",
              "      dtype=object)"
            ]
          },
          "metadata": {},
          "execution_count": 33
        }
      ]
    },
    {
      "cell_type": "code",
      "metadata": {
        "colab": {
          "base_uri": "https://localhost:8080/"
        },
        "id": "f6ooCgk0UE1e",
        "outputId": "6f050139-3af7-400f-f0ca-d6b02eb28a9a"
      },
      "source": [
        "occurrencies_popular"
      ],
      "execution_count": 34,
      "outputs": [
        {
          "output_type": "execute_result",
          "data": {
            "text/plain": [
              "array([0.3025698 , 0.11897376, 0.09017356, 0.08493334, 0.06837428,\n",
              "       0.06713759, 0.06248428, 0.05600738, 0.05365976, 0.05206674,\n",
              "       0.04948856, 0.04829379, 0.04317934])"
            ]
          },
          "metadata": {},
          "execution_count": 34
        }
      ]
    },
    {
      "cell_type": "code",
      "metadata": {
        "colab": {
          "base_uri": "https://localhost:8080/",
          "height": 441
        },
        "id": "GhOThH_TWIjd",
        "outputId": "87fade2f-73b2-441a-fc6e-2a7ec7231f3b"
      },
      "source": [
        "fig = plt.figure(figsize=(10, 6))\n",
        "sns.barplot(x=labels_popular, y=occurrencies_popular)\n",
        "plt.ylabel('Share')\n",
        "plt.xticks(rotation=60)\n",
        "plt.tight_layout()"
      ],
      "execution_count": 35,
      "outputs": [
        {
          "output_type": "display_data",
          "data": {
            "image/png": "[encoded data removed]",
            "text/plain": [
              "<Figure size 720x432 with 1 Axes>"
            ]
          },
          "metadata": {
            "needs_background": "light"
          }
        }
      ]
    },
    {
      "cell_type": "markdown",
      "metadata": {
        "id": "Hps0qIaOd_7M"
      },
      "source": [
        "Note, again, that despite being called \"shares\" this categories do not partition the population, because each person can have multiple occupations.\n",
        "The plot shows that politician is by far the most popular occupation, and approximately **30% of speakers in the database are politicians**. Thus, this reasonably justify our working assumption."
      ]
    },
    {
      "cell_type": "markdown",
      "metadata": {
        "id": "bVNIvqqjF1R3"
      },
      "source": [
        "## 1.5. Extract domains"
      ]
    },
    {
      "cell_type": "markdown",
      "metadata": {
        "id": "j5-JpC-KF3i5"
      },
      "source": [
        "Since later we will also be interested in placing newspapers on our Political Compass to investigate for news biases, we need to extract for each quote the domain(s) of the url(s), corresponding to the source of the original articles."
      ]
    },
    {
      "cell_type": "code",
      "metadata": {
        "id": "Pb9BMHsrGXlj"
      },
      "source": [
        "from urllib.parse import urlparse\n",
        "\n",
        "def urls_to_domains(url_list):\n",
        "  '''\n",
        "  extract a list of domains from a list of urls\n",
        "  '''\n",
        "  parsed_urls = [urlparse(x) for x in url_list]\n",
        "  # Remove leading www. and use list(set()) for deduplication\n",
        "  return list(set([x.netloc[4:] if x.netloc[:4] == 'www.' else x.netloc for x in parsed_urls if x and x.netloc]))"
      ],
      "execution_count": 36,
      "outputs": []
    },
    {
      "cell_type": "code",
      "metadata": {
        "colab": {
          "base_uri": "https://localhost:8080/",
          "height": 585
        },
        "id": "Tbbr_bg6Gj3_",
        "outputId": "a8c17dd2-88e2-4ffe-c660-8233dba2bc42"
      },
      "source": [
        "df_short_politicians['domains'] = df_short_politicians['urls'].apply(urls_to_domains)\n",
        "df_short_politicians"
      ],
      "execution_count": 37,
      "outputs": [
        {
          "output_type": "execute_result",
          "data": {
            "text/html": [
              "<div>\n",
              "<style scoped>\n",
              "    .dataframe tbody tr th:only-of-type {\n",
              "        vertical-align: middle;\n",
              "    }\n",
              "\n",
              "    .dataframe tbody tr th {\n",
              "        vertical-align: top;\n",
              "    }\n",
              "\n",
              "    .dataframe thead th {\n",
              "        text-align: right;\n",
              "    }\n",
              "</style>\n",
              "<table border=\"1\" class=\"dataframe\">\n",
              "  <thead>\n",
              "    <tr style=\"text-align: right;\">\n",
              "      <th></th>\n",
              "      <th>date</th>\n",
              "      <th>qids</th>\n",
              "      <th>quotation</th>\n",
              "      <th>speaker</th>\n",
              "      <th>urls</th>\n",
              "      <th>domains</th>\n",
              "    </tr>\n",
              "  </thead>\n",
              "  <tbody>\n",
              "    <tr>\n",
              "      <th>0</th>\n",
              "      <td>2020-01-23 22:29:35</td>\n",
              "      <td>Q7687964</td>\n",
              "      <td>Correctional officers received higher pay over...</td>\n",
              "      <td>Tate Reeves</td>\n",
              "      <td>[https://yallpolitics.com/2020/01/23/governor-...</td>\n",
              "      <td>[yallpolitics.com]</td>\n",
              "    </tr>\n",
              "    <tr>\n",
              "      <th>1</th>\n",
              "      <td>2020-02-26 22:53:36</td>\n",
              "      <td>Q22686</td>\n",
              "      <td>Prime Minister Modi and President Trump commit...</td>\n",
              "      <td>President Donald Trump</td>\n",
              "      <td>[https://www.newkerala.com/news/2020/31253.htm]</td>\n",
              "      <td>[newkerala.com]</td>\n",
              "    </tr>\n",
              "    <tr>\n",
              "      <th>2</th>\n",
              "      <td>2020-03-16 19:17:22</td>\n",
              "      <td>Q13562456</td>\n",
              "      <td>The forces of the status quo have been effecti...</td>\n",
              "      <td>Nina Turner</td>\n",
              "      <td>[http://p.washingtontimes.com/news/2020/mar/16...</td>\n",
              "      <td>[p.washingtontimes.com, washingtontimes.com]</td>\n",
              "    </tr>\n",
              "    <tr>\n",
              "      <th>3</th>\n",
              "      <td>2020-02-09 18:22:09</td>\n",
              "      <td>Q22686</td>\n",
              "      <td>The Trump administration has reversed almost a...</td>\n",
              "      <td>Donald Trump</td>\n",
              "      <td>[https://www.alternet.org/2020/02/white-house-...</td>\n",
              "      <td>[alternet.org]</td>\n",
              "    </tr>\n",
              "    <tr>\n",
              "      <th>4</th>\n",
              "      <td>2020-02-10 00:00:00</td>\n",
              "      <td>Q359442</td>\n",
              "      <td>You cannot take support to billionaires and th...</td>\n",
              "      <td>Bernie Sanders</td>\n",
              "      <td>[https://thiscantbehappening.net/the-red-baiti...</td>\n",
              "      <td>[counterpunch.org, thiscantbehappening.net]</td>\n",
              "    </tr>\n",
              "    <tr>\n",
              "      <th>...</th>\n",
              "      <td>...</td>\n",
              "      <td>...</td>\n",
              "      <td>...</td>\n",
              "      <td>...</td>\n",
              "      <td>...</td>\n",
              "      <td>...</td>\n",
              "    </tr>\n",
              "    <tr>\n",
              "      <th>9094</th>\n",
              "      <td>2020-03-18 17:31:36</td>\n",
              "      <td>Q11673</td>\n",
              "      <td>That 50% can be calibrated.</td>\n",
              "      <td>Andrew Cuomo</td>\n",
              "      <td>[https://kticradio.com/abc_national/coronaviru...</td>\n",
              "      <td>[kticradio.com, wimsradio.com]</td>\n",
              "    </tr>\n",
              "    <tr>\n",
              "      <th>9095</th>\n",
              "      <td>2020-03-15 23:03:39</td>\n",
              "      <td>Q4766748</td>\n",
              "      <td>Those of us that do this, and I don't care wha...</td>\n",
              "      <td>Ann Williams</td>\n",
              "      <td>[https://abc17news.com/news/national-world/202...</td>\n",
              "      <td>[abc17news.com, localnews8.com]</td>\n",
              "    </tr>\n",
              "    <tr>\n",
              "      <th>9096</th>\n",
              "      <td>2020-03-17 19:56:00</td>\n",
              "      <td>Q6262874</td>\n",
              "      <td>We can email Murphy's SuperValu in Castletownb...</td>\n",
              "      <td>John Walsh</td>\n",
              "      <td>[http://feeds.breakingnews.ie/~r/bnireland/~3/...</td>\n",
              "      <td>[feeds.breakingnews.ie]</td>\n",
              "    </tr>\n",
              "    <tr>\n",
              "      <th>9097</th>\n",
              "      <td>2020-01-15 01:34:53</td>\n",
              "      <td>Q22686</td>\n",
              "      <td>America is the envy of the entire world</td>\n",
              "      <td>President Donald Trump</td>\n",
              "      <td>[https://www.townsvillebulletin.com.au/news/wo...</td>\n",
              "      <td>[townsvillebulletin.com.au]</td>\n",
              "    </tr>\n",
              "    <tr>\n",
              "      <th>9098</th>\n",
              "      <td>2020-02-05 21:11:52</td>\n",
              "      <td>Q359442</td>\n",
              "      <td>the only major manufacturer in the world, in t...</td>\n",
              "      <td>Bernie Sanders</td>\n",
              "      <td>[http://www.politifact.com/article/2020/feb/05...</td>\n",
              "      <td>[politifact.com]</td>\n",
              "    </tr>\n",
              "  </tbody>\n",
              "</table>\n",
              "<p>9099 rows × 6 columns</p>\n",
              "</div>"
            ],
            "text/plain": [
              "                     date  ...                                       domains\n",
              "0     2020-01-23 22:29:35  ...                            [yallpolitics.com]\n",
              "1     2020-02-26 22:53:36  ...                               [newkerala.com]\n",
              "2     2020-03-16 19:17:22  ...  [p.washingtontimes.com, washingtontimes.com]\n",
              "3     2020-02-09 18:22:09  ...                                [alternet.org]\n",
              "4     2020-02-10 00:00:00  ...   [counterpunch.org, thiscantbehappening.net]\n",
              "...                   ...  ...                                           ...\n",
              "9094  2020-03-18 17:31:36  ...                [kticradio.com, wimsradio.com]\n",
              "9095  2020-03-15 23:03:39  ...               [abc17news.com, localnews8.com]\n",
              "9096  2020-03-17 19:56:00  ...                       [feeds.breakingnews.ie]\n",
              "9097  2020-01-15 01:34:53  ...                   [townsvillebulletin.com.au]\n",
              "9098  2020-02-05 21:11:52  ...                              [politifact.com]\n",
              "\n",
              "[9099 rows x 6 columns]"
            ]
          },
          "metadata": {},
          "execution_count": 37
        }
      ]
    },
    {
      "cell_type": "markdown",
      "metadata": {
        "id": "ZbJN-iLA1DPx"
      },
      "source": [
        "## 1.6. Saving data"
      ]
    },
    {
      "cell_type": "markdown",
      "metadata": {
        "id": "ODB-Yx6d1PfE"
      },
      "source": [
        "To reuse our processed sample to explore tools for Topic Extraction and Sentiment Analysis, we will save the database as a parquet file."
      ]
    },
    {
      "cell_type": "code",
      "metadata": {
        "id": "awROuzLI1Vi-"
      },
      "source": [
        "samplepath_processed = os.path.join(preprocess_folder, 'quotes-2020-sample.parquet.gzip')"
      ],
      "execution_count": 38,
      "outputs": []
    },
    {
      "cell_type": "code",
      "metadata": {
        "id": "FHE_uMsG19Np"
      },
      "source": [
        "df_short_politicians.to_parquet(samplepath_processed, compression='gzip')"
      ],
      "execution_count": 39,
      "outputs": []
    },
    {
      "cell_type": "markdown",
      "metadata": {
        "id": "Yd8LsxVuLPSA"
      },
      "source": [
        "## 1.7. Scaling up"
      ]
    },
    {
      "cell_type": "code",
      "metadata": {
        "id": "rDzZULs8NXUQ"
      },
      "source": [
        "def preprocess_politicians(df):\n",
        "  '''\n",
        "  Preprocess the dataframe df and extract only quotes from modern US politicians \n",
        "  '''\n",
        "  # Drop duplicates\n",
        "  df.drop_duplicates(subset='quoteID', keep='first', inplace=True)\n",
        "\n",
        "  # Drop unused columns\n",
        "  df = df.drop(['numOccurrences', 'phase', 'probas', 'quoteID'], axis=1)\n",
        "\n",
        "  # Drop nans\n",
        "  df.dropna(subset=['quotation', 'speaker'], inplace=True)\n",
        "\n",
        "  # Reset index\n",
        "  df.reset_index(drop=True, inplace=True)\n",
        "\n",
        "  # Match qids to politicians\n",
        "  df_politicians = df.copy()\n",
        "  df_politicians.qids = df_politicians.qids.apply(intersect_politicians)\n",
        "\n",
        "  # Filter for modern US politicians\n",
        "  df_politicians = df_politicians[df_politicians.qids.notna()]\n",
        "  df_politicians.reset_index(drop=True, inplace=True)\n",
        "\n",
        "  # Extract domains\n",
        "  df_politicians['domains'] = df_politicians['urls'].apply(urls_to_domains)\n",
        "\n",
        "  return df_politicians"
      ],
      "execution_count": 40,
      "outputs": []
    },
    {
      "cell_type": "markdown",
      "metadata": {
        "id": "jPhTHtBWB8aP"
      },
      "source": [
        "Let's now apply our pipeline to the entire Quotebank database (phase E)."
      ]
    },
    {
      "cell_type": "code",
      "metadata": {
        "id": "8KpwMZ2KBTRo"
      },
      "source": [
        "for filename in os.listdir(quotebank_folder)[0:2]:\n",
        "  filepath = os.path.join(quotebank_folder, filename)\n",
        "  processpath = os.path.join(preprocess_folder, filename.split('.')[0] + '.parquet.gzip')\n",
        "  if(not os.path.exists(processpath)):\n",
        "    print(f'Reading {filepath}...')\n",
        "    df = ps.read_json(filepath, compression='bzip2')\n",
        "    print(f'Reading {filepath} done')\n",
        "    print(f'Processing {filepath}...')\n",
        "    df_politicians = preprocess_politicians(df)\n",
        "    df_politicians.to_parquet(processpath, compression='gzip')\n",
        "    print(f'Processing {filepath} done')\n",
        "  else:\n",
        "    print(f'Found {processpath}')"
      ],
      "execution_count": null,
      "outputs": []
    },
    {
      "cell_type": "markdown",
      "metadata": {
        "id": "rP86bBLlDuq5"
      },
      "source": [
        "To test that everything went well, we will now load both the original and the parquet files for a year different than 2020 (the one from which we sampled our test dataset), and print the number of rows before and after the processing stage. We expect the filter to select a similar proportion of rows with respect to the sample that we used to showcase our pipeline in the previous sections, i.e. somewhat around the 9% of entries"
      ]
    },
    {
      "cell_type": "code",
      "metadata": {
        "colab": {
          "base_uri": "https://localhost:8080/"
        },
        "id": "gq3l84Mw4xuY",
        "outputId": "128f7b43-701c-425b-ebf0-b08c64b649c4"
      },
      "source": [
        "filename = os.path.join(quotebank_folder, 'quotes-2016.json.bz2')\n",
        "processname = os.path.join(preprocess_folder, 'quotes-2016.parquet.gzip')\n",
        "print('Reading ' + filename.split('.')[0] + '...')\n",
        "df = ps.read_json(filename, compression='bzip2')\n",
        "print('Reading ' + processname.split('.')[0] + '...')\n",
        "df_politicians = ps.read_parquet(processname, compression='gzip')\n",
        "len_before = len(df)\n",
        "len_after = len(df_politicians)\n",
        "print(f'Rows before processing: {len_before}')\n",
        "print(f'Rows after processing: {len_after}')\n",
        "print(f'Percentage of filtered rows: {(len_after / len_before * 100):.2f}%')\n",
        "print('----------------------------------')"
      ],
      "execution_count": 42,
      "outputs": [
        {
          "output_type": "stream",
          "name": "stdout",
          "text": [
            "Reading /content/drive/MyDrive/ADA/Quotebank/quotes-2016...\n",
            "Reading /content/drive/MyDrive/ADA/Processed/quotes-2016...\n",
            "Rows before processing: 13862129\n",
            "Rows after processing: 1117573\n",
            "Percentage of filtered rows: 8.06%\n",
            "----------------------------------\n"
          ]
        }
      ]
    },
    {
      "cell_type": "markdown",
      "metadata": {
        "id": "KcVESmBrIsZf"
      },
      "source": [
        "Indeed, our wrangling pipeline seems to be working smoothly."
      ]
    }
  ]
}