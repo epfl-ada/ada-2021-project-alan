{
  "nbformat": 4,
  "nbformat_minor": 0,
  "metadata": {
    "colab": {
      "name": "SentimentAnalysis.ipynb",
      "provenance": [],
      "collapsed_sections": [],
      "toc_visible": true
    },
    "kernelspec": {
      "name": "python3",
      "display_name": "Python 3"
    },
    "language_info": {
      "name": "python"
    },
    "widgets": {
      "application/vnd.jupyter.widget-state+json": {
        "31d1dcdacd3c4cf2bd11ffec5615a9c0": {
          "model_module": "@jupyter-widgets/controls",
          "model_name": "HBoxModel",
          "model_module_version": "1.5.0",
          "state": {
            "_view_name": "HBoxView",
            "_dom_classes": [],
            "_model_name": "HBoxModel",
            "_view_module": "@jupyter-widgets/controls",
            "_model_module_version": "1.5.0",
            "_view_count": null,
            "_view_module_version": "1.5.0",
            "box_style": "",
            "layout": "IPY_MODEL_a023283fc2dd49c78c84619d422f64f7",
            "_model_module": "@jupyter-widgets/controls",
            "children": [
              "IPY_MODEL_5b6d7239cfb24f3095149562ce30379a",
              "IPY_MODEL_c1e7cc494cff4c3ea40e8a5c143371cf",
              "IPY_MODEL_c7412f51242c40ac908123725d5e678d"
            ]
          }
        },
        "a023283fc2dd49c78c84619d422f64f7": {
          "model_module": "@jupyter-widgets/base",
          "model_name": "LayoutModel",
          "model_module_version": "1.2.0",
          "state": {
            "_view_name": "LayoutView",
            "grid_template_rows": null,
            "right": null,
            "justify_content": null,
            "_view_module": "@jupyter-widgets/base",
            "overflow": null,
            "_model_module_version": "1.2.0",
            "_view_count": null,
            "flex_flow": null,
            "width": null,
            "min_width": null,
            "border": null,
            "align_items": null,
            "bottom": null,
            "_model_module": "@jupyter-widgets/base",
            "top": null,
            "grid_column": null,
            "overflow_y": null,
            "overflow_x": null,
            "grid_auto_flow": null,
            "grid_area": null,
            "grid_template_columns": null,
            "flex": null,
            "_model_name": "LayoutModel",
            "justify_items": null,
            "grid_row": null,
            "max_height": null,
            "align_content": null,
            "visibility": null,
            "align_self": null,
            "height": null,
            "min_height": null,
            "padding": null,
            "grid_auto_rows": null,
            "grid_gap": null,
            "max_width": null,
            "order": null,
            "_view_module_version": "1.2.0",
            "grid_template_areas": null,
            "object_position": null,
            "object_fit": null,
            "grid_auto_columns": null,
            "margin": null,
            "display": null,
            "left": null
          }
        },
        "5b6d7239cfb24f3095149562ce30379a": {
          "model_module": "@jupyter-widgets/controls",
          "model_name": "HTMLModel",
          "model_module_version": "1.5.0",
          "state": {
            "_view_name": "HTMLView",
            "style": "IPY_MODEL_20e746004f0343ed983b3369b7af4775",
            "_dom_classes": [],
            "description": "",
            "_model_name": "HTMLModel",
            "placeholder": "​",
            "_view_module": "@jupyter-widgets/controls",
            "_model_module_version": "1.5.0",
            "value": "Downloading: 100%",
            "_view_count": null,
            "_view_module_version": "1.5.0",
            "description_tooltip": null,
            "_model_module": "@jupyter-widgets/controls",
            "layout": "IPY_MODEL_5b668d6914604778ae2457781ba2e139"
          }
        },
        "c1e7cc494cff4c3ea40e8a5c143371cf": {
          "model_module": "@jupyter-widgets/controls",
          "model_name": "FloatProgressModel",
          "model_module_version": "1.5.0",
          "state": {
            "_view_name": "ProgressView",
            "style": "IPY_MODEL_4319836f68c446e3895d2074fd93880c",
            "_dom_classes": [],
            "description": "",
            "_model_name": "FloatProgressModel",
            "bar_style": "success",
            "max": 28,
            "_view_module": "@jupyter-widgets/controls",
            "_model_module_version": "1.5.0",
            "value": 28,
            "_view_count": null,
            "_view_module_version": "1.5.0",
            "orientation": "horizontal",
            "min": 0,
            "description_tooltip": null,
            "_model_module": "@jupyter-widgets/controls",
            "layout": "IPY_MODEL_f8a9a39f3e554cd79c22b132c1c65647"
          }
        },
        "c7412f51242c40ac908123725d5e678d": {
          "model_module": "@jupyter-widgets/controls",
          "model_name": "HTMLModel",
          "model_module_version": "1.5.0",
          "state": {
            "_view_name": "HTMLView",
            "style": "IPY_MODEL_e67745d5be974db0981ee608c313fe97",
            "_dom_classes": [],
            "description": "",
            "_model_name": "HTMLModel",
            "placeholder": "​",
            "_view_module": "@jupyter-widgets/controls",
            "_model_module_version": "1.5.0",
            "value": " 28.0/28.0 [00:00&lt;00:00, 674B/s]",
            "_view_count": null,
            "_view_module_version": "1.5.0",
            "description_tooltip": null,
            "_model_module": "@jupyter-widgets/controls",
            "layout": "IPY_MODEL_c535ffbd6e234586b5940c245c1b3a0b"
          }
        },
        "20e746004f0343ed983b3369b7af4775": {
          "model_module": "@jupyter-widgets/controls",
          "model_name": "DescriptionStyleModel",
          "model_module_version": "1.5.0",
          "state": {
            "_view_name": "StyleView",
            "_model_name": "DescriptionStyleModel",
            "description_width": "",
            "_view_module": "@jupyter-widgets/base",
            "_model_module_version": "1.5.0",
            "_view_count": null,
            "_view_module_version": "1.2.0",
            "_model_module": "@jupyter-widgets/controls"
          }
        },
        "5b668d6914604778ae2457781ba2e139": {
          "model_module": "@jupyter-widgets/base",
          "model_name": "LayoutModel",
          "model_module_version": "1.2.0",
          "state": {
            "_view_name": "LayoutView",
            "grid_template_rows": null,
            "right": null,
            "justify_content": null,
            "_view_module": "@jupyter-widgets/base",
            "overflow": null,
            "_model_module_version": "1.2.0",
            "_view_count": null,
            "flex_flow": null,
            "width": null,
            "min_width": null,
            "border": null,
            "align_items": null,
            "bottom": null,
            "_model_module": "@jupyter-widgets/base",
            "top": null,
            "grid_column": null,
            "overflow_y": null,
            "overflow_x": null,
            "grid_auto_flow": null,
            "grid_area": null,
            "grid_template_columns": null,
            "flex": null,
            "_model_name": "LayoutModel",
            "justify_items": null,
            "grid_row": null,
            "max_height": null,
            "align_content": null,
            "visibility": null,
            "align_self": null,
            "height": null,
            "min_height": null,
            "padding": null,
            "grid_auto_rows": null,
            "grid_gap": null,
            "max_width": null,
            "order": null,
            "_view_module_version": "1.2.0",
            "grid_template_areas": null,
            "object_position": null,
            "object_fit": null,
            "grid_auto_columns": null,
            "margin": null,
            "display": null,
            "left": null
          }
        },
        "4319836f68c446e3895d2074fd93880c": {
          "model_module": "@jupyter-widgets/controls",
          "model_name": "ProgressStyleModel",
          "model_module_version": "1.5.0",
          "state": {
            "_view_name": "StyleView",
            "_model_name": "ProgressStyleModel",
            "description_width": "",
            "_view_module": "@jupyter-widgets/base",
            "_model_module_version": "1.5.0",
            "_view_count": null,
            "_view_module_version": "1.2.0",
            "bar_color": null,
            "_model_module": "@jupyter-widgets/controls"
          }
        },
        "f8a9a39f3e554cd79c22b132c1c65647": {
          "model_module": "@jupyter-widgets/base",
          "model_name": "LayoutModel",
          "model_module_version": "1.2.0",
          "state": {
            "_view_name": "LayoutView",
            "grid_template_rows": null,
            "right": null,
            "justify_content": null,
            "_view_module": "@jupyter-widgets/base",
            "overflow": null,
            "_model_module_version": "1.2.0",
            "_view_count": null,
            "flex_flow": null,
            "width": null,
            "min_width": null,
            "border": null,
            "align_items": null,
            "bottom": null,
            "_model_module": "@jupyter-widgets/base",
            "top": null,
            "grid_column": null,
            "overflow_y": null,
            "overflow_x": null,
            "grid_auto_flow": null,
            "grid_area": null,
            "grid_template_columns": null,
            "flex": null,
            "_model_name": "LayoutModel",
            "justify_items": null,
            "grid_row": null,
            "max_height": null,
            "align_content": null,
            "visibility": null,
            "align_self": null,
            "height": null,
            "min_height": null,
            "padding": null,
            "grid_auto_rows": null,
            "grid_gap": null,
            "max_width": null,
            "order": null,
            "_view_module_version": "1.2.0",
            "grid_template_areas": null,
            "object_position": null,
            "object_fit": null,
            "grid_auto_columns": null,
            "margin": null,
            "display": null,
            "left": null
          }
        },
        "e67745d5be974db0981ee608c313fe97": {
          "model_module": "@jupyter-widgets/controls",
          "model_name": "DescriptionStyleModel",
          "model_module_version": "1.5.0",
          "state": {
            "_view_name": "StyleView",
            "_model_name": "DescriptionStyleModel",
            "description_width": "",
            "_view_module": "@jupyter-widgets/base",
            "_model_module_version": "1.5.0",
            "_view_count": null,
            "_view_module_version": "1.2.0",
            "_model_module": "@jupyter-widgets/controls"
          }
        },
        "c535ffbd6e234586b5940c245c1b3a0b": {
          "model_module": "@jupyter-widgets/base",
          "model_name": "LayoutModel",
          "model_module_version": "1.2.0",
          "state": {
            "_view_name": "LayoutView",
            "grid_template_rows": null,
            "right": null,
            "justify_content": null,
            "_view_module": "@jupyter-widgets/base",
            "overflow": null,
            "_model_module_version": "1.2.0",
            "_view_count": null,
            "flex_flow": null,
            "width": null,
            "min_width": null,
            "border": null,
            "align_items": null,
            "bottom": null,
            "_model_module": "@jupyter-widgets/base",
            "top": null,
            "grid_column": null,
            "overflow_y": null,
            "overflow_x": null,
            "grid_auto_flow": null,
            "grid_area": null,
            "grid_template_columns": null,
            "flex": null,
            "_model_name": "LayoutModel",
            "justify_items": null,
            "grid_row": null,
            "max_height": null,
            "align_content": null,
            "visibility": null,
            "align_self": null,
            "height": null,
            "min_height": null,
            "padding": null,
            "grid_auto_rows": null,
            "grid_gap": null,
            "max_width": null,
            "order": null,
            "_view_module_version": "1.2.0",
            "grid_template_areas": null,
            "object_position": null,
            "object_fit": null,
            "grid_auto_columns": null,
            "margin": null,
            "display": null,
            "left": null
          }
        },
        "f862ca07317e4be59214a6e43f4228c6": {
          "model_module": "@jupyter-widgets/controls",
          "model_name": "HBoxModel",
          "model_module_version": "1.5.0",
          "state": {
            "_view_name": "HBoxView",
            "_dom_classes": [],
            "_model_name": "HBoxModel",
            "_view_module": "@jupyter-widgets/controls",
            "_model_module_version": "1.5.0",
            "_view_count": null,
            "_view_module_version": "1.5.0",
            "box_style": "",
            "layout": "IPY_MODEL_a738dee0e60e4913a3b6a779aae95206",
            "_model_module": "@jupyter-widgets/controls",
            "children": [
              "IPY_MODEL_af685327033845e1a2b75f1f0f62a1c9",
              "IPY_MODEL_33fdf471ae554fb28e71227c175c7304",
              "IPY_MODEL_cca0774c27914dbcb59f6e5cb6cd98c0"
            ]
          }
        },
        "a738dee0e60e4913a3b6a779aae95206": {
          "model_module": "@jupyter-widgets/base",
          "model_name": "LayoutModel",
          "model_module_version": "1.2.0",
          "state": {
            "_view_name": "LayoutView",
            "grid_template_rows": null,
            "right": null,
            "justify_content": null,
            "_view_module": "@jupyter-widgets/base",
            "overflow": null,
            "_model_module_version": "1.2.0",
            "_view_count": null,
            "flex_flow": null,
            "width": null,
            "min_width": null,
            "border": null,
            "align_items": null,
            "bottom": null,
            "_model_module": "@jupyter-widgets/base",
            "top": null,
            "grid_column": null,
            "overflow_y": null,
            "overflow_x": null,
            "grid_auto_flow": null,
            "grid_area": null,
            "grid_template_columns": null,
            "flex": null,
            "_model_name": "LayoutModel",
            "justify_items": null,
            "grid_row": null,
            "max_height": null,
            "align_content": null,
            "visibility": null,
            "align_self": null,
            "height": null,
            "min_height": null,
            "padding": null,
            "grid_auto_rows": null,
            "grid_gap": null,
            "max_width": null,
            "order": null,
            "_view_module_version": "1.2.0",
            "grid_template_areas": null,
            "object_position": null,
            "object_fit": null,
            "grid_auto_columns": null,
            "margin": null,
            "display": null,
            "left": null
          }
        },
        "af685327033845e1a2b75f1f0f62a1c9": {
          "model_module": "@jupyter-widgets/controls",
          "model_name": "HTMLModel",
          "model_module_version": "1.5.0",
          "state": {
            "_view_name": "HTMLView",
            "style": "IPY_MODEL_206d75c13e614161853bd165437e638b",
            "_dom_classes": [],
            "description": "",
            "_model_name": "HTMLModel",
            "placeholder": "​",
            "_view_module": "@jupyter-widgets/controls",
            "_model_module_version": "1.5.0",
            "value": "Downloading: 100%",
            "_view_count": null,
            "_view_module_version": "1.5.0",
            "description_tooltip": null,
            "_model_module": "@jupyter-widgets/controls",
            "layout": "IPY_MODEL_28fa1bb50fe24053b2e089966d0f2c69"
          }
        },
        "33fdf471ae554fb28e71227c175c7304": {
          "model_module": "@jupyter-widgets/controls",
          "model_name": "FloatProgressModel",
          "model_module_version": "1.5.0",
          "state": {
            "_view_name": "ProgressView",
            "style": "IPY_MODEL_9ff65d3ac462491291447f110dac0e08",
            "_dom_classes": [],
            "description": "",
            "_model_name": "FloatProgressModel",
            "bar_style": "success",
            "max": 231508,
            "_view_module": "@jupyter-widgets/controls",
            "_model_module_version": "1.5.0",
            "value": 231508,
            "_view_count": null,
            "_view_module_version": "1.5.0",
            "orientation": "horizontal",
            "min": 0,
            "description_tooltip": null,
            "_model_module": "@jupyter-widgets/controls",
            "layout": "IPY_MODEL_3dd9d2c764c94de587d13257b7d4608e"
          }
        },
        "cca0774c27914dbcb59f6e5cb6cd98c0": {
          "model_module": "@jupyter-widgets/controls",
          "model_name": "HTMLModel",
          "model_module_version": "1.5.0",
          "state": {
            "_view_name": "HTMLView",
            "style": "IPY_MODEL_3063d424a4f54919938bd604badf453f",
            "_dom_classes": [],
            "description": "",
            "_model_name": "HTMLModel",
            "placeholder": "​",
            "_view_module": "@jupyter-widgets/controls",
            "_model_module_version": "1.5.0",
            "value": " 226k/226k [00:00&lt;00:00, 2.35MB/s]",
            "_view_count": null,
            "_view_module_version": "1.5.0",
            "description_tooltip": null,
            "_model_module": "@jupyter-widgets/controls",
            "layout": "IPY_MODEL_8b73208f213642a681803988a58c950a"
          }
        },
        "206d75c13e614161853bd165437e638b": {
          "model_module": "@jupyter-widgets/controls",
          "model_name": "DescriptionStyleModel",
          "model_module_version": "1.5.0",
          "state": {
            "_view_name": "StyleView",
            "_model_name": "DescriptionStyleModel",
            "description_width": "",
            "_view_module": "@jupyter-widgets/base",
            "_model_module_version": "1.5.0",
            "_view_count": null,
            "_view_module_version": "1.2.0",
            "_model_module": "@jupyter-widgets/controls"
          }
        },
        "28fa1bb50fe24053b2e089966d0f2c69": {
          "model_module": "@jupyter-widgets/base",
          "model_name": "LayoutModel",
          "model_module_version": "1.2.0",
          "state": {
            "_view_name": "LayoutView",
            "grid_template_rows": null,
            "right": null,
            "justify_content": null,
            "_view_module": "@jupyter-widgets/base",
            "overflow": null,
            "_model_module_version": "1.2.0",
            "_view_count": null,
            "flex_flow": null,
            "width": null,
            "min_width": null,
            "border": null,
            "align_items": null,
            "bottom": null,
            "_model_module": "@jupyter-widgets/base",
            "top": null,
            "grid_column": null,
            "overflow_y": null,
            "overflow_x": null,
            "grid_auto_flow": null,
            "grid_area": null,
            "grid_template_columns": null,
            "flex": null,
            "_model_name": "LayoutModel",
            "justify_items": null,
            "grid_row": null,
            "max_height": null,
            "align_content": null,
            "visibility": null,
            "align_self": null,
            "height": null,
            "min_height": null,
            "padding": null,
            "grid_auto_rows": null,
            "grid_gap": null,
            "max_width": null,
            "order": null,
            "_view_module_version": "1.2.0",
            "grid_template_areas": null,
            "object_position": null,
            "object_fit": null,
            "grid_auto_columns": null,
            "margin": null,
            "display": null,
            "left": null
          }
        },
        "9ff65d3ac462491291447f110dac0e08": {
          "model_module": "@jupyter-widgets/controls",
          "model_name": "ProgressStyleModel",
          "model_module_version": "1.5.0",
          "state": {
            "_view_name": "StyleView",
            "_model_name": "ProgressStyleModel",
            "description_width": "",
            "_view_module": "@jupyter-widgets/base",
            "_model_module_version": "1.5.0",
            "_view_count": null,
            "_view_module_version": "1.2.0",
            "bar_color": null,
            "_model_module": "@jupyter-widgets/controls"
          }
        },
        "3dd9d2c764c94de587d13257b7d4608e": {
          "model_module": "@jupyter-widgets/base",
          "model_name": "LayoutModel",
          "model_module_version": "1.2.0",
          "state": {
            "_view_name": "LayoutView",
            "grid_template_rows": null,
            "right": null,
            "justify_content": null,
            "_view_module": "@jupyter-widgets/base",
            "overflow": null,
            "_model_module_version": "1.2.0",
            "_view_count": null,
            "flex_flow": null,
            "width": null,
            "min_width": null,
            "border": null,
            "align_items": null,
            "bottom": null,
            "_model_module": "@jupyter-widgets/base",
            "top": null,
            "grid_column": null,
            "overflow_y": null,
            "overflow_x": null,
            "grid_auto_flow": null,
            "grid_area": null,
            "grid_template_columns": null,
            "flex": null,
            "_model_name": "LayoutModel",
            "justify_items": null,
            "grid_row": null,
            "max_height": null,
            "align_content": null,
            "visibility": null,
            "align_self": null,
            "height": null,
            "min_height": null,
            "padding": null,
            "grid_auto_rows": null,
            "grid_gap": null,
            "max_width": null,
            "order": null,
            "_view_module_version": "1.2.0",
            "grid_template_areas": null,
            "object_position": null,
            "object_fit": null,
            "grid_auto_columns": null,
            "margin": null,
            "display": null,
            "left": null
          }
        },
        "3063d424a4f54919938bd604badf453f": {
          "model_module": "@jupyter-widgets/controls",
          "model_name": "DescriptionStyleModel",
          "model_module_version": "1.5.0",
          "state": {
            "_view_name": "StyleView",
            "_model_name": "DescriptionStyleModel",
            "description_width": "",
            "_view_module": "@jupyter-widgets/base",
            "_model_module_version": "1.5.0",
            "_view_count": null,
            "_view_module_version": "1.2.0",
            "_model_module": "@jupyter-widgets/controls"
          }
        },
        "8b73208f213642a681803988a58c950a": {
          "model_module": "@jupyter-widgets/base",
          "model_name": "LayoutModel",
          "model_module_version": "1.2.0",
          "state": {
            "_view_name": "LayoutView",
            "grid_template_rows": null,
            "right": null,
            "justify_content": null,
            "_view_module": "@jupyter-widgets/base",
            "overflow": null,
            "_model_module_version": "1.2.0",
            "_view_count": null,
            "flex_flow": null,
            "width": null,
            "min_width": null,
            "border": null,
            "align_items": null,
            "bottom": null,
            "_model_module": "@jupyter-widgets/base",
            "top": null,
            "grid_column": null,
            "overflow_y": null,
            "overflow_x": null,
            "grid_auto_flow": null,
            "grid_area": null,
            "grid_template_columns": null,
            "flex": null,
            "_model_name": "LayoutModel",
            "justify_items": null,
            "grid_row": null,
            "max_height": null,
            "align_content": null,
            "visibility": null,
            "align_self": null,
            "height": null,
            "min_height": null,
            "padding": null,
            "grid_auto_rows": null,
            "grid_gap": null,
            "max_width": null,
            "order": null,
            "_view_module_version": "1.2.0",
            "grid_template_areas": null,
            "object_position": null,
            "object_fit": null,
            "grid_auto_columns": null,
            "margin": null,
            "display": null,
            "left": null
          }
        },
        "4f76949c89b442838987c3a478b6db37": {
          "model_module": "@jupyter-widgets/controls",
          "model_name": "HBoxModel",
          "model_module_version": "1.5.0",
          "state": {
            "_view_name": "HBoxView",
            "_dom_classes": [],
            "_model_name": "HBoxModel",
            "_view_module": "@jupyter-widgets/controls",
            "_model_module_version": "1.5.0",
            "_view_count": null,
            "_view_module_version": "1.5.0",
            "box_style": "",
            "layout": "IPY_MODEL_6fd241671f084681b3762576e2068505",
            "_model_module": "@jupyter-widgets/controls",
            "children": [
              "IPY_MODEL_384a7b83e8b349d8bbfff6b50ddf7998",
              "IPY_MODEL_e56ecdf8909e4eccaddabcefe0d49bf5",
              "IPY_MODEL_75a29dcfb0ee49118f2e7f7c7aaa6c42"
            ]
          }
        },
        "6fd241671f084681b3762576e2068505": {
          "model_module": "@jupyter-widgets/base",
          "model_name": "LayoutModel",
          "model_module_version": "1.2.0",
          "state": {
            "_view_name": "LayoutView",
            "grid_template_rows": null,
            "right": null,
            "justify_content": null,
            "_view_module": "@jupyter-widgets/base",
            "overflow": null,
            "_model_module_version": "1.2.0",
            "_view_count": null,
            "flex_flow": null,
            "width": null,
            "min_width": null,
            "border": null,
            "align_items": null,
            "bottom": null,
            "_model_module": "@jupyter-widgets/base",
            "top": null,
            "grid_column": null,
            "overflow_y": null,
            "overflow_x": null,
            "grid_auto_flow": null,
            "grid_area": null,
            "grid_template_columns": null,
            "flex": null,
            "_model_name": "LayoutModel",
            "justify_items": null,
            "grid_row": null,
            "max_height": null,
            "align_content": null,
            "visibility": null,
            "align_self": null,
            "height": null,
            "min_height": null,
            "padding": null,
            "grid_auto_rows": null,
            "grid_gap": null,
            "max_width": null,
            "order": null,
            "_view_module_version": "1.2.0",
            "grid_template_areas": null,
            "object_position": null,
            "object_fit": null,
            "grid_auto_columns": null,
            "margin": null,
            "display": null,
            "left": null
          }
        },
        "384a7b83e8b349d8bbfff6b50ddf7998": {
          "model_module": "@jupyter-widgets/controls",
          "model_name": "HTMLModel",
          "model_module_version": "1.5.0",
          "state": {
            "_view_name": "HTMLView",
            "style": "IPY_MODEL_233c6bea617647aa882b86acb87ec514",
            "_dom_classes": [],
            "description": "",
            "_model_name": "HTMLModel",
            "placeholder": "​",
            "_view_module": "@jupyter-widgets/controls",
            "_model_module_version": "1.5.0",
            "value": "Downloading: 100%",
            "_view_count": null,
            "_view_module_version": "1.5.0",
            "description_tooltip": null,
            "_model_module": "@jupyter-widgets/controls",
            "layout": "IPY_MODEL_a47cc93c38694e4da3d3d6b639e63bc5"
          }
        },
        "e56ecdf8909e4eccaddabcefe0d49bf5": {
          "model_module": "@jupyter-widgets/controls",
          "model_name": "FloatProgressModel",
          "model_module_version": "1.5.0",
          "state": {
            "_view_name": "ProgressView",
            "style": "IPY_MODEL_0ec3211561334fb399e6bc0847edfe44",
            "_dom_classes": [],
            "description": "",
            "_model_name": "FloatProgressModel",
            "bar_style": "success",
            "max": 466062,
            "_view_module": "@jupyter-widgets/controls",
            "_model_module_version": "1.5.0",
            "value": 466062,
            "_view_count": null,
            "_view_module_version": "1.5.0",
            "orientation": "horizontal",
            "min": 0,
            "description_tooltip": null,
            "_model_module": "@jupyter-widgets/controls",
            "layout": "IPY_MODEL_090ca282c2c94d6994cfa04f64bfb4d3"
          }
        },
        "75a29dcfb0ee49118f2e7f7c7aaa6c42": {
          "model_module": "@jupyter-widgets/controls",
          "model_name": "HTMLModel",
          "model_module_version": "1.5.0",
          "state": {
            "_view_name": "HTMLView",
            "style": "IPY_MODEL_3ff5eb98144a4416b0c058ed98f8b7f7",
            "_dom_classes": [],
            "description": "",
            "_model_name": "HTMLModel",
            "placeholder": "​",
            "_view_module": "@jupyter-widgets/controls",
            "_model_module_version": "1.5.0",
            "value": " 455k/455k [00:00&lt;00:00, 1.89MB/s]",
            "_view_count": null,
            "_view_module_version": "1.5.0",
            "description_tooltip": null,
            "_model_module": "@jupyter-widgets/controls",
            "layout": "IPY_MODEL_b9a725fcbcd74ab99dd90160049bc24f"
          }
        },
        "233c6bea617647aa882b86acb87ec514": {
          "model_module": "@jupyter-widgets/controls",
          "model_name": "DescriptionStyleModel",
          "model_module_version": "1.5.0",
          "state": {
            "_view_name": "StyleView",
            "_model_name": "DescriptionStyleModel",
            "description_width": "",
            "_view_module": "@jupyter-widgets/base",
            "_model_module_version": "1.5.0",
            "_view_count": null,
            "_view_module_version": "1.2.0",
            "_model_module": "@jupyter-widgets/controls"
          }
        },
        "a47cc93c38694e4da3d3d6b639e63bc5": {
          "model_module": "@jupyter-widgets/base",
          "model_name": "LayoutModel",
          "model_module_version": "1.2.0",
          "state": {
            "_view_name": "LayoutView",
            "grid_template_rows": null,
            "right": null,
            "justify_content": null,
            "_view_module": "@jupyter-widgets/base",
            "overflow": null,
            "_model_module_version": "1.2.0",
            "_view_count": null,
            "flex_flow": null,
            "width": null,
            "min_width": null,
            "border": null,
            "align_items": null,
            "bottom": null,
            "_model_module": "@jupyter-widgets/base",
            "top": null,
            "grid_column": null,
            "overflow_y": null,
            "overflow_x": null,
            "grid_auto_flow": null,
            "grid_area": null,
            "grid_template_columns": null,
            "flex": null,
            "_model_name": "LayoutModel",
            "justify_items": null,
            "grid_row": null,
            "max_height": null,
            "align_content": null,
            "visibility": null,
            "align_self": null,
            "height": null,
            "min_height": null,
            "padding": null,
            "grid_auto_rows": null,
            "grid_gap": null,
            "max_width": null,
            "order": null,
            "_view_module_version": "1.2.0",
            "grid_template_areas": null,
            "object_position": null,
            "object_fit": null,
            "grid_auto_columns": null,
            "margin": null,
            "display": null,
            "left": null
          }
        },
        "0ec3211561334fb399e6bc0847edfe44": {
          "model_module": "@jupyter-widgets/controls",
          "model_name": "ProgressStyleModel",
          "model_module_version": "1.5.0",
          "state": {
            "_view_name": "StyleView",
            "_model_name": "ProgressStyleModel",
            "description_width": "",
            "_view_module": "@jupyter-widgets/base",
            "_model_module_version": "1.5.0",
            "_view_count": null,
            "_view_module_version": "1.2.0",
            "bar_color": null,
            "_model_module": "@jupyter-widgets/controls"
          }
        },
        "090ca282c2c94d6994cfa04f64bfb4d3": {
          "model_module": "@jupyter-widgets/base",
          "model_name": "LayoutModel",
          "model_module_version": "1.2.0",
          "state": {
            "_view_name": "LayoutView",
            "grid_template_rows": null,
            "right": null,
            "justify_content": null,
            "_view_module": "@jupyter-widgets/base",
            "overflow": null,
            "_model_module_version": "1.2.0",
            "_view_count": null,
            "flex_flow": null,
            "width": null,
            "min_width": null,
            "border": null,
            "align_items": null,
            "bottom": null,
            "_model_module": "@jupyter-widgets/base",
            "top": null,
            "grid_column": null,
            "overflow_y": null,
            "overflow_x": null,
            "grid_auto_flow": null,
            "grid_area": null,
            "grid_template_columns": null,
            "flex": null,
            "_model_name": "LayoutModel",
            "justify_items": null,
            "grid_row": null,
            "max_height": null,
            "align_content": null,
            "visibility": null,
            "align_self": null,
            "height": null,
            "min_height": null,
            "padding": null,
            "grid_auto_rows": null,
            "grid_gap": null,
            "max_width": null,
            "order": null,
            "_view_module_version": "1.2.0",
            "grid_template_areas": null,
            "object_position": null,
            "object_fit": null,
            "grid_auto_columns": null,
            "margin": null,
            "display": null,
            "left": null
          }
        },
        "3ff5eb98144a4416b0c058ed98f8b7f7": {
          "model_module": "@jupyter-widgets/controls",
          "model_name": "DescriptionStyleModel",
          "model_module_version": "1.5.0",
          "state": {
            "_view_name": "StyleView",
            "_model_name": "DescriptionStyleModel",
            "description_width": "",
            "_view_module": "@jupyter-widgets/base",
            "_model_module_version": "1.5.0",
            "_view_count": null,
            "_view_module_version": "1.2.0",
            "_model_module": "@jupyter-widgets/controls"
          }
        },
        "b9a725fcbcd74ab99dd90160049bc24f": {
          "model_module": "@jupyter-widgets/base",
          "model_name": "LayoutModel",
          "model_module_version": "1.2.0",
          "state": {
            "_view_name": "LayoutView",
            "grid_template_rows": null,
            "right": null,
            "justify_content": null,
            "_view_module": "@jupyter-widgets/base",
            "overflow": null,
            "_model_module_version": "1.2.0",
            "_view_count": null,
            "flex_flow": null,
            "width": null,
            "min_width": null,
            "border": null,
            "align_items": null,
            "bottom": null,
            "_model_module": "@jupyter-widgets/base",
            "top": null,
            "grid_column": null,
            "overflow_y": null,
            "overflow_x": null,
            "grid_auto_flow": null,
            "grid_area": null,
            "grid_template_columns": null,
            "flex": null,
            "_model_name": "LayoutModel",
            "justify_items": null,
            "grid_row": null,
            "max_height": null,
            "align_content": null,
            "visibility": null,
            "align_self": null,
            "height": null,
            "min_height": null,
            "padding": null,
            "grid_auto_rows": null,
            "grid_gap": null,
            "max_width": null,
            "order": null,
            "_view_module_version": "1.2.0",
            "grid_template_areas": null,
            "object_position": null,
            "object_fit": null,
            "grid_auto_columns": null,
            "margin": null,
            "display": null,
            "left": null
          }
        },
        "a44cece1fe5c4e41bdfb7b3100c2c067": {
          "model_module": "@jupyter-widgets/controls",
          "model_name": "HBoxModel",
          "model_module_version": "1.5.0",
          "state": {
            "_view_name": "HBoxView",
            "_dom_classes": [],
            "_model_name": "HBoxModel",
            "_view_module": "@jupyter-widgets/controls",
            "_model_module_version": "1.5.0",
            "_view_count": null,
            "_view_module_version": "1.5.0",
            "box_style": "",
            "layout": "IPY_MODEL_ffd158cf2e4b4386a0b75530a8868d73",
            "_model_module": "@jupyter-widgets/controls",
            "children": [
              "IPY_MODEL_60c2dadf5a9e4a9a8246d311a239322f",
              "IPY_MODEL_1ea18c72a2704a1ab98c07c37fc97f7a",
              "IPY_MODEL_a65022bfc8f042049427924cc9cf9deb"
            ]
          }
        },
        "ffd158cf2e4b4386a0b75530a8868d73": {
          "model_module": "@jupyter-widgets/base",
          "model_name": "LayoutModel",
          "model_module_version": "1.2.0",
          "state": {
            "_view_name": "LayoutView",
            "grid_template_rows": null,
            "right": null,
            "justify_content": null,
            "_view_module": "@jupyter-widgets/base",
            "overflow": null,
            "_model_module_version": "1.2.0",
            "_view_count": null,
            "flex_flow": null,
            "width": null,
            "min_width": null,
            "border": null,
            "align_items": null,
            "bottom": null,
            "_model_module": "@jupyter-widgets/base",
            "top": null,
            "grid_column": null,
            "overflow_y": null,
            "overflow_x": null,
            "grid_auto_flow": null,
            "grid_area": null,
            "grid_template_columns": null,
            "flex": null,
            "_model_name": "LayoutModel",
            "justify_items": null,
            "grid_row": null,
            "max_height": null,
            "align_content": null,
            "visibility": null,
            "align_self": null,
            "height": null,
            "min_height": null,
            "padding": null,
            "grid_auto_rows": null,
            "grid_gap": null,
            "max_width": null,
            "order": null,
            "_view_module_version": "1.2.0",
            "grid_template_areas": null,
            "object_position": null,
            "object_fit": null,
            "grid_auto_columns": null,
            "margin": null,
            "display": null,
            "left": null
          }
        },
        "60c2dadf5a9e4a9a8246d311a239322f": {
          "model_module": "@jupyter-widgets/controls",
          "model_name": "HTMLModel",
          "model_module_version": "1.5.0",
          "state": {
            "_view_name": "HTMLView",
            "style": "IPY_MODEL_646aa849741643a8b7c870eddcffd9be",
            "_dom_classes": [],
            "description": "",
            "_model_name": "HTMLModel",
            "placeholder": "​",
            "_view_module": "@jupyter-widgets/controls",
            "_model_module_version": "1.5.0",
            "value": "Downloading: 100%",
            "_view_count": null,
            "_view_module_version": "1.5.0",
            "description_tooltip": null,
            "_model_module": "@jupyter-widgets/controls",
            "layout": "IPY_MODEL_7f87ea85bc31436b902257dd71b9dbc9"
          }
        },
        "1ea18c72a2704a1ab98c07c37fc97f7a": {
          "model_module": "@jupyter-widgets/controls",
          "model_name": "FloatProgressModel",
          "model_module_version": "1.5.0",
          "state": {
            "_view_name": "ProgressView",
            "style": "IPY_MODEL_8a42bf2ec8b9413f9c22fa987f252156",
            "_dom_classes": [],
            "description": "",
            "_model_name": "FloatProgressModel",
            "bar_style": "success",
            "max": 483,
            "_view_module": "@jupyter-widgets/controls",
            "_model_module_version": "1.5.0",
            "value": 483,
            "_view_count": null,
            "_view_module_version": "1.5.0",
            "orientation": "horizontal",
            "min": 0,
            "description_tooltip": null,
            "_model_module": "@jupyter-widgets/controls",
            "layout": "IPY_MODEL_3e9b5dd8b50d410a9e3d9590921ea149"
          }
        },
        "a65022bfc8f042049427924cc9cf9deb": {
          "model_module": "@jupyter-widgets/controls",
          "model_name": "HTMLModel",
          "model_module_version": "1.5.0",
          "state": {
            "_view_name": "HTMLView",
            "style": "IPY_MODEL_451be77b95b6433aa900936b3542ff60",
            "_dom_classes": [],
            "description": "",
            "_model_name": "HTMLModel",
            "placeholder": "​",
            "_view_module": "@jupyter-widgets/controls",
            "_model_module_version": "1.5.0",
            "value": " 483/483 [00:00&lt;00:00, 11.1kB/s]",
            "_view_count": null,
            "_view_module_version": "1.5.0",
            "description_tooltip": null,
            "_model_module": "@jupyter-widgets/controls",
            "layout": "IPY_MODEL_c1fa460e99d54a8caaa3d0a93d9476d2"
          }
        },
        "646aa849741643a8b7c870eddcffd9be": {
          "model_module": "@jupyter-widgets/controls",
          "model_name": "DescriptionStyleModel",
          "model_module_version": "1.5.0",
          "state": {
            "_view_name": "StyleView",
            "_model_name": "DescriptionStyleModel",
            "description_width": "",
            "_view_module": "@jupyter-widgets/base",
            "_model_module_version": "1.5.0",
            "_view_count": null,
            "_view_module_version": "1.2.0",
            "_model_module": "@jupyter-widgets/controls"
          }
        },
        "7f87ea85bc31436b902257dd71b9dbc9": {
          "model_module": "@jupyter-widgets/base",
          "model_name": "LayoutModel",
          "model_module_version": "1.2.0",
          "state": {
            "_view_name": "LayoutView",
            "grid_template_rows": null,
            "right": null,
            "justify_content": null,
            "_view_module": "@jupyter-widgets/base",
            "overflow": null,
            "_model_module_version": "1.2.0",
            "_view_count": null,
            "flex_flow": null,
            "width": null,
            "min_width": null,
            "border": null,
            "align_items": null,
            "bottom": null,
            "_model_module": "@jupyter-widgets/base",
            "top": null,
            "grid_column": null,
            "overflow_y": null,
            "overflow_x": null,
            "grid_auto_flow": null,
            "grid_area": null,
            "grid_template_columns": null,
            "flex": null,
            "_model_name": "LayoutModel",
            "justify_items": null,
            "grid_row": null,
            "max_height": null,
            "align_content": null,
            "visibility": null,
            "align_self": null,
            "height": null,
            "min_height": null,
            "padding": null,
            "grid_auto_rows": null,
            "grid_gap": null,
            "max_width": null,
            "order": null,
            "_view_module_version": "1.2.0",
            "grid_template_areas": null,
            "object_position": null,
            "object_fit": null,
            "grid_auto_columns": null,
            "margin": null,
            "display": null,
            "left": null
          }
        },
        "8a42bf2ec8b9413f9c22fa987f252156": {
          "model_module": "@jupyter-widgets/controls",
          "model_name": "ProgressStyleModel",
          "model_module_version": "1.5.0",
          "state": {
            "_view_name": "StyleView",
            "_model_name": "ProgressStyleModel",
            "description_width": "",
            "_view_module": "@jupyter-widgets/base",
            "_model_module_version": "1.5.0",
            "_view_count": null,
            "_view_module_version": "1.2.0",
            "bar_color": null,
            "_model_module": "@jupyter-widgets/controls"
          }
        },
        "3e9b5dd8b50d410a9e3d9590921ea149": {
          "model_module": "@jupyter-widgets/base",
          "model_name": "LayoutModel",
          "model_module_version": "1.2.0",
          "state": {
            "_view_name": "LayoutView",
            "grid_template_rows": null,
            "right": null,
            "justify_content": null,
            "_view_module": "@jupyter-widgets/base",
            "overflow": null,
            "_model_module_version": "1.2.0",
            "_view_count": null,
            "flex_flow": null,
            "width": null,
            "min_width": null,
            "border": null,
            "align_items": null,
            "bottom": null,
            "_model_module": "@jupyter-widgets/base",
            "top": null,
            "grid_column": null,
            "overflow_y": null,
            "overflow_x": null,
            "grid_auto_flow": null,
            "grid_area": null,
            "grid_template_columns": null,
            "flex": null,
            "_model_name": "LayoutModel",
            "justify_items": null,
            "grid_row": null,
            "max_height": null,
            "align_content": null,
            "visibility": null,
            "align_self": null,
            "height": null,
            "min_height": null,
            "padding": null,
            "grid_auto_rows": null,
            "grid_gap": null,
            "max_width": null,
            "order": null,
            "_view_module_version": "1.2.0",
            "grid_template_areas": null,
            "object_position": null,
            "object_fit": null,
            "grid_auto_columns": null,
            "margin": null,
            "display": null,
            "left": null
          }
        },
        "451be77b95b6433aa900936b3542ff60": {
          "model_module": "@jupyter-widgets/controls",
          "model_name": "DescriptionStyleModel",
          "model_module_version": "1.5.0",
          "state": {
            "_view_name": "StyleView",
            "_model_name": "DescriptionStyleModel",
            "description_width": "",
            "_view_module": "@jupyter-widgets/base",
            "_model_module_version": "1.5.0",
            "_view_count": null,
            "_view_module_version": "1.2.0",
            "_model_module": "@jupyter-widgets/controls"
          }
        },
        "c1fa460e99d54a8caaa3d0a93d9476d2": {
          "model_module": "@jupyter-widgets/base",
          "model_name": "LayoutModel",
          "model_module_version": "1.2.0",
          "state": {
            "_view_name": "LayoutView",
            "grid_template_rows": null,
            "right": null,
            "justify_content": null,
            "_view_module": "@jupyter-widgets/base",
            "overflow": null,
            "_model_module_version": "1.2.0",
            "_view_count": null,
            "flex_flow": null,
            "width": null,
            "min_width": null,
            "border": null,
            "align_items": null,
            "bottom": null,
            "_model_module": "@jupyter-widgets/base",
            "top": null,
            "grid_column": null,
            "overflow_y": null,
            "overflow_x": null,
            "grid_auto_flow": null,
            "grid_area": null,
            "grid_template_columns": null,
            "flex": null,
            "_model_name": "LayoutModel",
            "justify_items": null,
            "grid_row": null,
            "max_height": null,
            "align_content": null,
            "visibility": null,
            "align_self": null,
            "height": null,
            "min_height": null,
            "padding": null,
            "grid_auto_rows": null,
            "grid_gap": null,
            "max_width": null,
            "order": null,
            "_view_module_version": "1.2.0",
            "grid_template_areas": null,
            "object_position": null,
            "object_fit": null,
            "grid_auto_columns": null,
            "margin": null,
            "display": null,
            "left": null
          }
        }
      }
    }
  },
  "cells": [
    {
      "cell_type": "markdown",
      "metadata": {
        "id": "skm14jr2wfou"
      },
      "source": [
        "# Contents\n",
        "1. [Sentiment analysis tools](#1.-Sentiment-analysis-tools)           \n",
        "    1.1. [Flair](#1.1-Flair)   \n",
        "    1.2. [VADER](#1.2-VADER)                     \n",
        "    1.3. [TextBlob](#1.3-TextBlob)  \n",
        "2. [Sentiment analysis on the QuoteBank dataset](#2.-Sentiment-analysis-on-the-QuoteBank-dataset)          \n",
        "    2.1. [Predict sentiment scores](#2.1.-Predict-sentiment-scores)  \n",
        "    2.2. [Look at some examples](#2.2.-Look-at-some-examples)  \n",
        "    2.3. [Compare VADER and TextBlob](#2.3.-Compare-VADER-and-TextBlob)\n",
        "3. [Conclusion](#3.-Conclusion)  \n",
        "    3.1. [Feasibility](#3.1.-Feasibility)\n",
        "4. [References](#4.-References)"
      ]
    },
    {
      "cell_type": "markdown",
      "metadata": {
        "id": "z9bCunFNjekh"
      },
      "source": [
        "# **1. Sentiment analysis tools**\n",
        "\n",
        "The goal of sentiment analysis is to associate an opinion to each quote belonging to a certain topic. To quantify the opinion of a quote, we use sentiment analysis, a tool in natural language processing that links a sentiment score to a text. The sentiment or *polarity score* is **a scalar between -1 and 1, where -1 reflects a strongly negative sentiment, 1 strongly positive and 0 a neutral opinion**. Here, we looked into three sentiment analysis tools.  \n",
        "\n",
        "1. [Flair](https://github.com/flairNLP/flair): An long short-term memory (LSTM) model trained on movie reviews from the IMBD dataset. \n",
        "\n",
        "2. [VADER](https://github.com/cjhutto/vaderSentiment) [1]: a rule-based (bag of words) sentiment analysis tool developed at MIT specifically attuned to sentiments expressed in social media. It is part of the NLTK library. In brief, VADER links a sentiment score to each individual word in a sentence, and calculates the final sentiment score as the mean of each individual word in the sentence.  \n",
        "\n",
        "3. [TextBlob](https://github.com/sloria/TextBlob): a general library for natural language processing with many tools including rule-based sentiment analysis.\n"
      ]
    },
    {
      "cell_type": "code",
      "metadata": {
        "id": "ksE4Ebf_XkPl",
        "colab": {
          "base_uri": "https://localhost:8080/"
        },
        "outputId": "3eefd926-3921-4952-a544-ff8896fa3938"
      },
      "source": [
        "# Mount Google Drive\n",
        "from google.colab import drive\n",
        "drive.mount('/content/drive')"
      ],
      "execution_count": 1,
      "outputs": [
        {
          "output_type": "stream",
          "name": "stdout",
          "text": [
            "Drive already mounted at /content/drive; to attempt to forcibly remount, call drive.mount(\"/content/drive\", force_remount=True).\n"
          ]
        }
      ]
    },
    {
      "cell_type": "code",
      "metadata": {
        "id": "pMRfc7P5e9FN"
      },
      "source": [
        "# Install Flair, VADER and TextBlob\n",
        "!pip install flair\n",
        "!pip install vaderSentiment\n",
        "!pip install -U textblob\n",
        "\n",
        "!pip install -U IPython"
      ],
      "execution_count": null,
      "outputs": []
    },
    {
      "cell_type": "code",
      "metadata": {
        "id": "23Gji6hUrNEd",
        "colab": {
          "base_uri": "https://localhost:8080/"
        },
        "outputId": "ba3f1545-6f57-41e9-ffff-274f943b69da"
      },
      "source": [
        "import numpy as np\n",
        "import pandas as pd\n",
        "import seaborn as sns\n",
        "import time\n",
        "import matplotlib.pyplot as plt\n",
        "from scipy import stats\n",
        "\n",
        "from flair.data import Sentence\n",
        "from flair.models import TextClassifier\n",
        "import nltk\n",
        "nltk.download('punkt')\n",
        "nltk.download('averaged_perceptron_tagger')\n",
        "nltk.download('vader_lexicon')\n",
        "from nltk.sentiment.vader import SentimentIntensityAnalyzer\n",
        "from textblob import TextBlob"
      ],
      "execution_count": 3,
      "outputs": [
        {
          "output_type": "stream",
          "name": "stdout",
          "text": [
            "[nltk_data] Downloading package punkt to /root/nltk_data...\n",
            "[nltk_data]   Unzipping tokenizers/punkt.zip.\n",
            "[nltk_data] Downloading package averaged_perceptron_tagger to\n",
            "[nltk_data]     /root/nltk_data...\n",
            "[nltk_data]   Unzipping taggers/averaged_perceptron_tagger.zip.\n",
            "[nltk_data] Downloading package vader_lexicon to /root/nltk_data...\n"
          ]
        },
        {
          "output_type": "stream",
          "name": "stderr",
          "text": [
            "/usr/local/lib/python3.7/dist-packages/nltk/twitter/__init__.py:20: UserWarning: The twython library has not been installed. Some functionality from the twitter package will not be available.\n",
            "  warnings.warn(\"The twython library has not been installed. \"\n"
          ]
        }
      ]
    },
    {
      "cell_type": "code",
      "metadata": {
        "id": "bo5ScHBofsiP"
      },
      "source": [
        "# Define three sentences: one neutral, one positive and one negative\n",
        "sentence_neutral = 'The hottest temperature ever recorded on Earth was 2 billion degrees kelvin.'\n",
        "sentence_positive = 'These fantastic sentiment analysis tools make me very happy.'\n",
        "sentence_negative = 'What I do not like about november is the annoying rain.'\n",
        "sentence_list = [sentence_neutral, sentence_positive, sentence_negative]"
      ],
      "execution_count": 4,
      "outputs": []
    },
    {
      "cell_type": "markdown",
      "metadata": {
        "id": "yRttmTTc8z4F"
      },
      "source": [
        "<a id='flair'></a>\n",
        "## 1.1 Flair\n",
        "Flair classifies a sentence into one of three categories: positive, negative and neutral, and gives the probability associated with the most likely cluster."
      ]
    },
    {
      "cell_type": "code",
      "metadata": {
        "colab": {
          "base_uri": "https://localhost:8080/",
          "height": 249,
          "referenced_widgets": [
            "31d1dcdacd3c4cf2bd11ffec5615a9c0",
            "a023283fc2dd49c78c84619d422f64f7",
            "5b6d7239cfb24f3095149562ce30379a",
            "c1e7cc494cff4c3ea40e8a5c143371cf",
            "c7412f51242c40ac908123725d5e678d",
            "20e746004f0343ed983b3369b7af4775",
            "5b668d6914604778ae2457781ba2e139",
            "4319836f68c446e3895d2074fd93880c",
            "f8a9a39f3e554cd79c22b132c1c65647",
            "e67745d5be974db0981ee608c313fe97",
            "c535ffbd6e234586b5940c245c1b3a0b",
            "f862ca07317e4be59214a6e43f4228c6",
            "a738dee0e60e4913a3b6a779aae95206",
            "af685327033845e1a2b75f1f0f62a1c9",
            "33fdf471ae554fb28e71227c175c7304",
            "cca0774c27914dbcb59f6e5cb6cd98c0",
            "206d75c13e614161853bd165437e638b",
            "28fa1bb50fe24053b2e089966d0f2c69",
            "9ff65d3ac462491291447f110dac0e08",
            "3dd9d2c764c94de587d13257b7d4608e",
            "3063d424a4f54919938bd604badf453f",
            "8b73208f213642a681803988a58c950a",
            "4f76949c89b442838987c3a478b6db37",
            "6fd241671f084681b3762576e2068505",
            "384a7b83e8b349d8bbfff6b50ddf7998",
            "e56ecdf8909e4eccaddabcefe0d49bf5",
            "75a29dcfb0ee49118f2e7f7c7aaa6c42",
            "233c6bea617647aa882b86acb87ec514",
            "a47cc93c38694e4da3d3d6b639e63bc5",
            "0ec3211561334fb399e6bc0847edfe44",
            "090ca282c2c94d6994cfa04f64bfb4d3",
            "3ff5eb98144a4416b0c058ed98f8b7f7",
            "b9a725fcbcd74ab99dd90160049bc24f",
            "a44cece1fe5c4e41bdfb7b3100c2c067",
            "ffd158cf2e4b4386a0b75530a8868d73",
            "60c2dadf5a9e4a9a8246d311a239322f",
            "1ea18c72a2704a1ab98c07c37fc97f7a",
            "a65022bfc8f042049427924cc9cf9deb",
            "646aa849741643a8b7c870eddcffd9be",
            "7f87ea85bc31436b902257dd71b9dbc9",
            "8a42bf2ec8b9413f9c22fa987f252156",
            "3e9b5dd8b50d410a9e3d9590921ea149",
            "451be77b95b6433aa900936b3542ff60",
            "c1fa460e99d54a8caaa3d0a93d9476d2"
          ]
        },
        "id": "SoZL_N6Kz66I",
        "outputId": "6cc2d933-f1a6-4859-de45-a4257bad698b"
      },
      "source": [
        "# load the sentiment classifier\n",
        "classifier = TextClassifier.load('sentiment')"
      ],
      "execution_count": 5,
      "outputs": [
        {
          "output_type": "stream",
          "name": "stdout",
          "text": [
            "2021-11-12 13:15:34,995 https://nlp.informatik.hu-berlin.de/resources/models/sentiment-curated-distilbert/sentiment-en-mix-distillbert_4.pt not found in cache, downloading to /tmp/tmpji26he0p\n"
          ]
        },
        {
          "output_type": "stream",
          "name": "stderr",
          "text": [
            "100%|██████████| 265512723/265512723 [00:37<00:00, 7044632.13B/s]"
          ]
        },
        {
          "output_type": "stream",
          "name": "stdout",
          "text": [
            "2021-11-12 13:16:13,069 copying /tmp/tmpji26he0p to cache at /root/.flair/models/sentiment-en-mix-distillbert_4.pt\n"
          ]
        },
        {
          "output_type": "stream",
          "name": "stderr",
          "text": [
            "\n"
          ]
        },
        {
          "output_type": "stream",
          "name": "stdout",
          "text": [
            "2021-11-12 13:16:13,622 removing temp file /tmp/tmpji26he0p\n",
            "2021-11-12 13:16:14,164 loading file /root/.flair/models/sentiment-en-mix-distillbert_4.pt\n"
          ]
        },
        {
          "output_type": "display_data",
          "data": {
            "application/vnd.jupyter.widget-view+json": {
              "model_id": "31d1dcdacd3c4cf2bd11ffec5615a9c0",
              "version_minor": 0,
              "version_major": 2
            },
            "text/plain": [
              "Downloading:   0%|          | 0.00/28.0 [00:00<?, ?B/s]"
            ]
          },
          "metadata": {}
        },
        {
          "output_type": "display_data",
          "data": {
            "application/vnd.jupyter.widget-view+json": {
              "model_id": "f862ca07317e4be59214a6e43f4228c6",
              "version_minor": 0,
              "version_major": 2
            },
            "text/plain": [
              "Downloading:   0%|          | 0.00/226k [00:00<?, ?B/s]"
            ]
          },
          "metadata": {}
        },
        {
          "output_type": "display_data",
          "data": {
            "application/vnd.jupyter.widget-view+json": {
              "model_id": "4f76949c89b442838987c3a478b6db37",
              "version_minor": 0,
              "version_major": 2
            },
            "text/plain": [
              "Downloading:   0%|          | 0.00/455k [00:00<?, ?B/s]"
            ]
          },
          "metadata": {}
        },
        {
          "output_type": "display_data",
          "data": {
            "application/vnd.jupyter.widget-view+json": {
              "model_id": "a44cece1fe5c4e41bdfb7b3100c2c067",
              "version_minor": 0,
              "version_major": 2
            },
            "text/plain": [
              "Downloading:   0%|          | 0.00/483 [00:00<?, ?B/s]"
            ]
          },
          "metadata": {}
        }
      ]
    },
    {
      "cell_type": "code",
      "metadata": {
        "colab": {
          "base_uri": "https://localhost:8080/"
        },
        "id": "F9HiVgSDXwVg",
        "outputId": "dd1af065-460e-4ffd-d5d4-0f66b45edfae"
      },
      "source": [
        "# Convert the strings into a Flair sentence and predict their sentiment \n",
        "for string in sentence_list:\n",
        "  sentence = Sentence(string)\n",
        "  classifier.predict(sentence)\n",
        "  print('\\n', sentence)"
      ],
      "execution_count": 6,
      "outputs": [
        {
          "output_type": "stream",
          "name": "stdout",
          "text": [
            "\n",
            " Sentence: \"The hottest temperature ever recorded on Earth was 2 billion degrees kelvin .\"   [− Tokens: 13  − Sentence-Labels: {'label': [POSITIVE (0.5297)]}]\n",
            "\n",
            " Sentence: \"These fantastic sentiment analysis tools make me very happy .\"   [− Tokens: 10  − Sentence-Labels: {'label': [POSITIVE (0.9989)]}]\n",
            "\n",
            " Sentence: \"What I do not like about november is the annoying rain .\"   [− Tokens: 12  − Sentence-Labels: {'label': [POSITIVE (0.5119)]}]\n"
          ]
        }
      ]
    },
    {
      "cell_type": "markdown",
      "metadata": {
        "id": "tpxAWcEkdWSW"
      },
      "source": [
        "The negative sentence 'What I do not like about november is the annoying rain.' is predicted positive (score=0.5119). This is not the only example Flair making mistakes: we have tried many more sentences, and saw quite a lot wrong predictions. Flair was trained on movie reviews and apparently does not generalize to broader language. Therefore, *we will not use Flair for our project* and turn to the rule-based tools VADER and TextBlob."
      ]
    },
    {
      "cell_type": "markdown",
      "metadata": {
        "id": "UYNvBNXQ0NFP"
      },
      "source": [
        "## 1.2 VADER"
      ]
    },
    {
      "cell_type": "markdown",
      "metadata": {
        "id": "yPcs3gOs0OiN"
      },
      "source": [
        "VADER (Valence Aware Dictionary for Sentiment Reasoning) is available under python's NLTK package. For each phrase it returns four scores:   \n",
        "- positive $\\in (0,1)$, the probability score for the sentence being positive.\n",
        "- negative $\\in (0,1)$, same as above but then for negative.\n",
        "- neutral $\\in (0,1)$, same for neutral.\n",
        "- compound $\\in (-1,1)$, is computed by normalizing the three scores above. -1 means likely negative, 1 means likely positive, and 0 is likely neutral."
      ]
    },
    {
      "cell_type": "code",
      "metadata": {
        "colab": {
          "base_uri": "https://localhost:8080/"
        },
        "id": "Hz9CXxYCdjSt",
        "outputId": "8d0f3dbe-4584-4475-be98-867cd3107b19"
      },
      "source": [
        "# Create the VADER analyzer\n",
        "analyzer = SentimentIntensityAnalyzer()\n",
        "\n",
        "# Predict the VADER polarity of each sentence\n",
        "for string in sentence_list:\n",
        "  print('\\n'+string)\n",
        "  print(analyzer.polarity_scores(string))"
      ],
      "execution_count": 7,
      "outputs": [
        {
          "output_type": "stream",
          "name": "stdout",
          "text": [
            "\n",
            "The hottest temperature ever recorded on Earth was 2 billion degrees kelvin.\n",
            "{'neg': 0.0, 'neu': 1.0, 'pos': 0.0, 'compound': 0.0}\n",
            "\n",
            "These fantastic sentiment analysis tools make me very happy.\n",
            "{'neg': 0.0, 'neu': 0.48, 'pos': 0.52, 'compound': 0.8221}\n",
            "\n",
            "What I do not like about november is the annoying rain.\n",
            "{'neg': 0.375, 'neu': 0.625, 'pos': 0.0, 'compound': -0.5873}\n"
          ]
        }
      ]
    },
    {
      "cell_type": "markdown",
      "metadata": {
        "id": "Hu9lsECyd6LU"
      },
      "source": [
        "The VADER results make more sense than Flair. The negative sentence is predicted more neutral than negative, but still it has a negative compound score which indicates some degree of negativity. Furthermore, we note that the  compound score that VADER provides is convenient because it summarizes the sentiment of each statement in one number."
      ]
    },
    {
      "cell_type": "markdown",
      "metadata": {
        "id": "DEk7Z6H50_CI"
      },
      "source": [
        "## 1.3 TextBlob"
      ]
    },
    {
      "cell_type": "markdown",
      "metadata": {
        "id": "rHLVe1lyz0eS"
      },
      "source": [
        "For each sentence, textblob returns 2 values:  \n",
        "- polarity $\\in$ [-1,1], where -1 is **negative**, 1 is **positive**, and 0 is **neutral**. This is comparable to VADER's compound score.\n",
        "- subjectivity $\\in$ [0,1], where 0 is **factual information** and 1 is a **subjective opinion**."
      ]
    },
    {
      "cell_type": "code",
      "metadata": {
        "colab": {
          "base_uri": "https://localhost:8080/"
        },
        "id": "UjldRN0Tx9xV",
        "outputId": "7da5590b-b2df-4abc-a91b-2982003aee9f"
      },
      "source": [
        "# Predict the TextBlob polarity scores of each sentence\n",
        "for sentence in sentence_list:\n",
        "  blob = TextBlob(sentence)\n",
        "  print('\\n'+sentence)\n",
        "  print(blob.sentiment)"
      ],
      "execution_count": 8,
      "outputs": [
        {
          "output_type": "stream",
          "name": "stdout",
          "text": [
            "\n",
            "The hottest temperature ever recorded on Earth was 2 billion degrees kelvin.\n",
            "Sentiment(polarity=0.0, subjectivity=0.0)\n",
            "\n",
            "These fantastic sentiment analysis tools make me very happy.\n",
            "Sentiment(polarity=0.7, subjectivity=0.95)\n",
            "\n",
            "What I do not like about november is the annoying rain.\n",
            "Sentiment(polarity=-0.8, subjectivity=0.9)\n"
          ]
        }
      ]
    },
    {
      "cell_type": "markdown",
      "metadata": {
        "id": "0bHhK9BUf3Wt"
      },
      "source": [
        "TextBlob also correctly classifies all three sentences, and it gives us extra information about the subjectivity in a sentence. Now, let's apply both VADER and TextBlob on our dataset."
      ]
    },
    {
      "cell_type": "markdown",
      "metadata": {
        "id": "qxvBNmtM1M0N"
      },
      "source": [
        "# **2. Sentiment analysis on the QuoteBank dataset**"
      ]
    },
    {
      "cell_type": "code",
      "metadata": {
        "colab": {
          "base_uri": "https://localhost:8080/"
        },
        "id": "l4MWoCgy2ITE",
        "outputId": "802030df-312a-4e16-c4cc-c6fda7749061"
      },
      "source": [
        "# Get a preprocessed sample of the dataset, filtered only for quotes of \n",
        "# US modern politicians (cfr Data_Wrangling.ipynb)\n",
        "samplepath_processed = '/content/drive/MyDrive/ADA/Processed/quotes-2020-sample.parquet.gzip'\n",
        "df = pd.read_parquet(samplepath_processed)\n",
        "print('Loaded %d sample quotations.'%len(df))"
      ],
      "execution_count": 9,
      "outputs": [
        {
          "output_type": "stream",
          "name": "stdout",
          "text": [
            "Loaded 9099 sample quotations.\n"
          ]
        }
      ]
    },
    {
      "cell_type": "code",
      "metadata": {
        "colab": {
          "base_uri": "https://localhost:8080/",
          "height": 287
        },
        "id": "_Rr7pf2HmsSs",
        "outputId": "826d56a6-914a-43b7-eedd-1626688dd305"
      },
      "source": [
        "df.head()"
      ],
      "execution_count": 10,
      "outputs": [
        {
          "output_type": "execute_result",
          "data": {
            "text/html": [
              "<div>\n",
              "<style scoped>\n",
              "    .dataframe tbody tr th:only-of-type {\n",
              "        vertical-align: middle;\n",
              "    }\n",
              "\n",
              "    .dataframe tbody tr th {\n",
              "        vertical-align: top;\n",
              "    }\n",
              "\n",
              "    .dataframe thead th {\n",
              "        text-align: right;\n",
              "    }\n",
              "</style>\n",
              "<table border=\"1\" class=\"dataframe\">\n",
              "  <thead>\n",
              "    <tr style=\"text-align: right;\">\n",
              "      <th></th>\n",
              "      <th>date</th>\n",
              "      <th>qids</th>\n",
              "      <th>quotation</th>\n",
              "      <th>speaker</th>\n",
              "      <th>urls</th>\n",
              "      <th>domains</th>\n",
              "    </tr>\n",
              "  </thead>\n",
              "  <tbody>\n",
              "    <tr>\n",
              "      <th>0</th>\n",
              "      <td>2020-01-23 22:29:35</td>\n",
              "      <td>Q7687964</td>\n",
              "      <td>Correctional officers received higher pay over...</td>\n",
              "      <td>Tate Reeves</td>\n",
              "      <td>[https://yallpolitics.com/2020/01/23/governor-...</td>\n",
              "      <td>[yallpolitics.com]</td>\n",
              "    </tr>\n",
              "    <tr>\n",
              "      <th>1</th>\n",
              "      <td>2020-02-26 22:53:36</td>\n",
              "      <td>Q22686</td>\n",
              "      <td>Prime Minister Modi and President Trump commit...</td>\n",
              "      <td>President Donald Trump</td>\n",
              "      <td>[https://www.newkerala.com/news/2020/31253.htm]</td>\n",
              "      <td>[newkerala.com]</td>\n",
              "    </tr>\n",
              "    <tr>\n",
              "      <th>2</th>\n",
              "      <td>2020-03-16 19:17:22</td>\n",
              "      <td>Q13562456</td>\n",
              "      <td>The forces of the status quo have been effecti...</td>\n",
              "      <td>Nina Turner</td>\n",
              "      <td>[http://p.washingtontimes.com/news/2020/mar/16...</td>\n",
              "      <td>[p.washingtontimes.com, washingtontimes.com]</td>\n",
              "    </tr>\n",
              "    <tr>\n",
              "      <th>3</th>\n",
              "      <td>2020-02-09 18:22:09</td>\n",
              "      <td>Q22686</td>\n",
              "      <td>The Trump administration has reversed almost a...</td>\n",
              "      <td>Donald Trump</td>\n",
              "      <td>[https://www.alternet.org/2020/02/white-house-...</td>\n",
              "      <td>[alternet.org]</td>\n",
              "    </tr>\n",
              "    <tr>\n",
              "      <th>4</th>\n",
              "      <td>2020-02-10 00:00:00</td>\n",
              "      <td>Q359442</td>\n",
              "      <td>You cannot take support to billionaires and th...</td>\n",
              "      <td>Bernie Sanders</td>\n",
              "      <td>[https://thiscantbehappening.net/the-red-baiti...</td>\n",
              "      <td>[counterpunch.org, thiscantbehappening.net]</td>\n",
              "    </tr>\n",
              "  </tbody>\n",
              "</table>\n",
              "</div>"
            ],
            "text/plain": [
              "                  date  ...                                       domains\n",
              "0  2020-01-23 22:29:35  ...                            [yallpolitics.com]\n",
              "1  2020-02-26 22:53:36  ...                               [newkerala.com]\n",
              "2  2020-03-16 19:17:22  ...  [p.washingtontimes.com, washingtontimes.com]\n",
              "3  2020-02-09 18:22:09  ...                                [alternet.org]\n",
              "4  2020-02-10 00:00:00  ...   [counterpunch.org, thiscantbehappening.net]\n",
              "\n",
              "[5 rows x 6 columns]"
            ]
          },
          "metadata": {},
          "execution_count": 10
        }
      ]
    },
    {
      "cell_type": "markdown",
      "metadata": {
        "id": "gl2cQtHU0TNi"
      },
      "source": [
        "## 2.1. Predict sentiment scores"
      ]
    },
    {
      "cell_type": "code",
      "metadata": {
        "id": "9konPDDGnhUX"
      },
      "source": [
        "def get_vader_compound_score(sentence):\n",
        "  # Apply VADER analyzer and get compound score\n",
        "  return analyzer.polarity_scores(sentence)['compound']\n",
        "\n",
        "def get_textblob_sentiment(sentence):\n",
        "  # Apply TextBlob analyzer and get poarity and subjectivity\n",
        "  blob = TextBlob(sentence)\n",
        "  return [blob.sentiment.polarity, blob.sentiment.subjectivity]"
      ],
      "execution_count": 11,
      "outputs": []
    },
    {
      "cell_type": "code",
      "metadata": {
        "id": "lc3BKAtn2bOo",
        "colab": {
          "base_uri": "https://localhost:8080/"
        },
        "outputId": "d0519092-13b6-4180-b290-18dcd9079fef"
      },
      "source": [
        "# Get VADER compound scores of quotations\n",
        "start = time.time()\n",
        "df['vader_compound_score'] = df.quotation.apply(get_vader_compound_score)\n",
        "print('VADER: Predicted %d quotations in %.2f seconds.'%(len(df), time.time()-start))"
      ],
      "execution_count": 12,
      "outputs": [
        {
          "output_type": "stream",
          "name": "stdout",
          "text": [
            "VADER: Predicted 9099 quotations in 2.87 seconds.\n"
          ]
        }
      ]
    },
    {
      "cell_type": "code",
      "metadata": {
        "colab": {
          "base_uri": "https://localhost:8080/"
        },
        "id": "0yJhdPOj7x3c",
        "outputId": "043ee745-ed56-4531-e101-98a7b3e3222f"
      },
      "source": [
        "# Get TextBlob polarity and subjectivity scores into different columns\n",
        "start = time.time()\n",
        "df[['textblob_polarity', 'textblob_subjectivity']] = pd.DataFrame(df.quotation.apply(get_textblob_sentiment).to_list(), columns=['textblob_polarity', 'textblob_subjectivity'])\n",
        "print('TextBlob: Predicted %d quotations in %.2f seconds.'%(len(df), time.time()-start))"
      ],
      "execution_count": 13,
      "outputs": [
        {
          "output_type": "stream",
          "name": "stdout",
          "text": [
            "TextBlob: Predicted 9099 quotations in 2.62 seconds.\n"
          ]
        }
      ]
    },
    {
      "cell_type": "markdown",
      "metadata": {
        "id": "PwlOAKy90E78"
      },
      "source": [
        "## 2.2. Look at some examples\n",
        "\n",
        "First, let's look at some example of positive, negative and neutral quotes (of VADER and TextBlob)."
      ]
    },
    {
      "cell_type": "code",
      "metadata": {
        "id": "tN3U757d0PUQ"
      },
      "source": [
        "def print_random_sentiment_examples(df, ids, score_name, num_examples=5):\n",
        "  # Print some random examples of quotes with their score.\n",
        "  # Inputs\n",
        "  # --------\n",
        "  # df (pandas dataframe) is the dataframe containing the quotations and scores.\n",
        "  # ids (list) is the list of specific ids you want to take the examples from.\n",
        "  # score_name (string) is the name of the score based on which you generated the IDs.\n",
        "  # --------\n",
        "  np.random.seed(1)\n",
        "  random_indeces = np.random.randint(len(ids), size=num_examples)\n",
        "  for index in random_indeces:\n",
        "    id = ids[index]\n",
        "    print('%.2f: %s'%(df.loc[id, score_name], df.loc[id,'quotation']))"
      ],
      "execution_count": 14,
      "outputs": []
    },
    {
      "cell_type": "code",
      "metadata": {
        "colab": {
          "base_uri": "https://localhost:8080/"
        },
        "id": "Ow058Ayp0li5",
        "outputId": "32cb5e63-0f19-4bd2-ce2c-a0fff906e59a"
      },
      "source": [
        "# Some examples of Vader compound scores\n",
        "print('VADER results:')\n",
        "print('\\nPositive quote examples:')\n",
        "print_random_sentiment_examples(df, df[df.vader_compound_score > 0.9].index.to_list(), 'vader_compound_score')\n",
        "\n",
        "print('\\nNegative quote examples:')\n",
        "print_random_sentiment_examples(df, df[df.vader_compound_score < -0.9].index.to_list(), 'vader_compound_score')\n",
        "\n",
        "print('\\nNeutral quote examples:')\n",
        "print_random_sentiment_examples(df, df[(df.vader_compound_score > -0.1) & (df.vader_compound_score < 0.1)].index.to_list(), 'vader_compound_score')"
      ],
      "execution_count": 15,
      "outputs": [
        {
          "output_type": "stream",
          "name": "stdout",
          "text": [
            "VADER results:\n",
            "\n",
            "Positive quote examples:\n",
            "0.91: until we have passed significant and bold new steps above and beyond what the House has passed, to help our strong nation and our strong underlying economy weather this storm.\n",
            "0.93: The question is, is this the best hot dog? Or is the best hot dog sold by all those gorgeous women at the last stand?\n",
            "0.94: This couldn't be further from the truth. We work hard to support candidates hoping to become officers to help level the playing field, encouraging people from different backgrounds and under-represented groups. Ultimately, everyone is assessed equally on merit.\n",
            "0.96: Everyone here today is united by a shared conviction. We know that our nation is stronger, our future is brighter, and our joy is greater when we turn to God and ask him to shed his grace on our lives,\n",
            "0.96: We wish this patient a full recovery and we know he is being cared for by highly competent medical teams. My administration and the Department of Public Health are working around the clock to help conduct contact investigations for this case and any others who test positive in the future. I encourage anyone with questions about how to protect yourself and your family from this virus to go online at ct. gov/coronavirus to obtain important guidance and other information or call the 2-1-1 info line.\n",
            "\n",
            "Negative quote examples:\n",
            "-0.92: It's bad for them, bad for everybody. This is a fight between Saudi Arabia and Russia having to do with how many barrels to let out. And they both went crazy, they both went crazy.\n",
            "-0.95: The president's conduct is wrong. It is illegal. It is dangerous. And it captures the worst fears of our founders and the framers of the Constitution,\n",
            "-0.93: And we lose in Florida between five and t10en kids a year for the flu. This one, for whatever reason, much more dangerous if you're 65 and plus than the flu, no doubt about that, if you're younger it just hasn't had an impact. So that should factor into how we're viewing this.\n",
            "-0.94: As we move forward in addressing the COVID-19 crisis, I believe it's critical to address the needs of domestic violence survivors and intimate partner violence; this includes also the LGBTQ community,\n",
            "-0.92: Russia has been implicated under Putin with assassinating dissidents. So once you're in the business of assassination, you unleash some very, very terrible forces. And what I'm seeing now in this world, as a result of Trump's actions, more and more chaos, more and more instability,\n",
            "\n",
            "Neutral quote examples:\n",
            "0.00: a synchronised slowdown in economic activity around the globe\n",
            "0.00: They're not buying the socialism,\n",
            "0.00: Senator Romney has expressed his concerns to Chairman (Ron) Johnson, who has confirmed that any interview of the witness would occur in a closed setting without a hearing or public spectacle. He will therefore vote to let the chairman proceed to obtain the documents that have been offered,\n",
            "0.00: There was a whole lot of things happening. It was just mayhem.\n",
            "0.00: depth, systemization and intent.\n"
          ]
        }
      ]
    },
    {
      "cell_type": "code",
      "metadata": {
        "colab": {
          "base_uri": "https://localhost:8080/"
        },
        "id": "5PvBNTm90s8p",
        "outputId": "7679b46f-d414-4d1a-caed-d85b9149faa5"
      },
      "source": [
        "# Some examples of TextBlob polarity\n",
        "\n",
        "print('TextBlob polarity results:')\n",
        "print('\\nPositive quote examples:')\n",
        "print_random_sentiment_examples(df, df[df.textblob_polarity > 0.9].index.to_list(), 'textblob_polarity')\n",
        "\n",
        "print('\\nNegative quote examples:')\n",
        "print_random_sentiment_examples(df, df[df.textblob_polarity < -0.9].index.to_list(), 'textblob_polarity')\n",
        "\n",
        "print('\\nNeutral quote examples:')\n",
        "print_random_sentiment_examples(df, df[(df.textblob_polarity > -0.1) & (df.textblob_polarity < 0.1)].index.to_list(), 'textblob_polarity')"
      ],
      "execution_count": 16,
      "outputs": [
        {
          "output_type": "stream",
          "name": "stdout",
          "text": [
            "TextBlob polarity results:\n",
            "\n",
            "Positive quote examples:\n",
            "1.00: sent by God and is perfect\n",
            "1.00: We have the biggest and best health and fitness festival in world, but we would never choose making money over people's health,\n",
            "1.00: However it has been going on now for the best part of a decade and the matter does need to be settled once and for all.\n",
            "1.00: I am declaring a State of Emergency in Nebraska as we continue to work to be the best prepared state in the nation for COVID-19,\n",
            "1.00: running to be a president for everybody. I also believe that this country is at its best when we lift up everybody for who we are.\n",
            "\n",
            "Negative quote examples:\n",
            "-1.00: terrible week of suffering and deaths\n",
            "-1.00: a radical anti-Trump person, and she didn't say that when she went up there. And she became the foreperson of the jury. And she did terrible things and said terrible things.\n",
            "-1.00: He's been sued, the contractor that the county contracted with has been sued, there's sub suits going on, there's code enforcements against 12 people on this island who took the material. So the county has done an awful lot,\n",
            "-0.98: When you factor that in what you see playing out is very tragic.\n",
            "-1.00: Our hearts break for the families of the individuals lost to this horrible sickness,\n",
            "\n",
            "Neutral quote examples:\n",
            "0.00: I just can't believe this and he didn't deserve this.\n",
            "0.00: Edmund Ross showed such grace on that fateful day in 1868. Will we see it again?\n",
            "0.00: The C.D.C. has come under fire for taking testing numbers off its website and for its inability to supply timely information on the spread of the virus. On Wednesday, Reuters reported that the White House told officials at the Department of Health & Human Services to classify coronavirus deliberations, adding a layer of secrecy to the government's response.\n",
            "0.00: I have nothing against him as a candidate,\n",
            "0.00: According to McKinney, appellate courts may no longer reweigh aggravating and mitigating circumstances in determining whether to uphold a death sentence,\n"
          ]
        }
      ]
    },
    {
      "cell_type": "code",
      "metadata": {
        "colab": {
          "base_uri": "https://localhost:8080/"
        },
        "id": "6EWCUvKU0w1B",
        "outputId": "db02c23c-f4a4-4a83-bf9c-907ec03696d1"
      },
      "source": [
        "# Some examples of TextBlob subjectivity\n",
        "\n",
        "print('TextBlob subjectivity results:')\n",
        "print('\\nSubjective quote examples:')\n",
        "print_random_sentiment_examples(df, df[df.textblob_subjectivity > 0.9].index.to_list(), 'textblob_subjectivity')\n",
        "\n",
        "print('\\nNon-subjective quote examples:')\n",
        "print_random_sentiment_examples(df, df[df.textblob_subjectivity < 0.1].index.to_list(), 'textblob_subjectivity')"
      ],
      "execution_count": 17,
      "outputs": [
        {
          "output_type": "stream",
          "name": "stdout",
          "text": [
            "TextBlob subjectivity results:\n",
            "\n",
            "Subjective quote examples:\n",
            "1.00: terrible week of suffering and deaths\n",
            "1.00: Fiscally, it is critically important for the school districts,\n",
            "1.00: Needless to say, I think we know who this song is dedicated to,\n",
            "0.95: I'm still surprised we don't have any confirmed cases in Northwest Arkansas,\n",
            "0.91: With all the uncertainty we are dealing with, we felt strongly that it would be important for... all of Longhorn nation that we name an interim president as soon as possible,\n",
            "\n",
            "Non-subjective quote examples:\n",
            "0.00: We have the ability to reinstall punitive tariffs, with retaliatory ability on China's part,\n",
            "0.00: We'll see how it goes, we still need a vote, don't we?\n",
            "0.00: We need to build this reserve corps,\n",
            "0.00: promise to the American people to enforce our nation's immigration laws.\n",
            "0.00: People don't want to be informed, they want to seem informed.\n"
          ]
        }
      ]
    },
    {
      "cell_type": "markdown",
      "metadata": {
        "id": "uW70uw0UDSGl"
      },
      "source": [
        "Running these examples a couple of times gives an idea of the error rate of the models. **While the compound and polarity scores yield surprisingly good results, the TextBlob's subjectivity score is often inaccurate, making a wrong prediction roughly 30% of the times.**"
      ]
    },
    {
      "cell_type": "markdown",
      "metadata": {
        "id": "b8TXMcmVmyHQ"
      },
      "source": [
        "## 2.3. Compare VADER and TextBlob\n",
        "Now, let's look at the differences between VADER and TextBlob predictions.\n"
      ]
    },
    {
      "cell_type": "code",
      "metadata": {
        "colab": {
          "base_uri": "https://localhost:8080/",
          "height": 295
        },
        "id": "RbaZpi_kXdg7",
        "outputId": "ffe96531-3c69-4ad5-d4c6-87bcf448e9ca"
      },
      "source": [
        "df[['vader_compound_score','textblob_polarity','textblob_subjectivity']].describe()"
      ],
      "execution_count": 18,
      "outputs": [
        {
          "output_type": "execute_result",
          "data": {
            "text/html": [
              "<div>\n",
              "<style scoped>\n",
              "    .dataframe tbody tr th:only-of-type {\n",
              "        vertical-align: middle;\n",
              "    }\n",
              "\n",
              "    .dataframe tbody tr th {\n",
              "        vertical-align: top;\n",
              "    }\n",
              "\n",
              "    .dataframe thead th {\n",
              "        text-align: right;\n",
              "    }\n",
              "</style>\n",
              "<table border=\"1\" class=\"dataframe\">\n",
              "  <thead>\n",
              "    <tr style=\"text-align: right;\">\n",
              "      <th></th>\n",
              "      <th>vader_compound_score</th>\n",
              "      <th>textblob_polarity</th>\n",
              "      <th>textblob_subjectivity</th>\n",
              "    </tr>\n",
              "  </thead>\n",
              "  <tbody>\n",
              "    <tr>\n",
              "      <th>count</th>\n",
              "      <td>9099.000000</td>\n",
              "      <td>9099.000000</td>\n",
              "      <td>9099.000000</td>\n",
              "    </tr>\n",
              "    <tr>\n",
              "      <th>mean</th>\n",
              "      <td>0.118354</td>\n",
              "      <td>0.098594</td>\n",
              "      <td>0.368981</td>\n",
              "    </tr>\n",
              "    <tr>\n",
              "      <th>std</th>\n",
              "      <td>0.457355</td>\n",
              "      <td>0.255787</td>\n",
              "      <td>0.296650</td>\n",
              "    </tr>\n",
              "    <tr>\n",
              "      <th>min</th>\n",
              "      <td>-0.991900</td>\n",
              "      <td>-1.000000</td>\n",
              "      <td>0.000000</td>\n",
              "    </tr>\n",
              "    <tr>\n",
              "      <th>25%</th>\n",
              "      <td>-0.128000</td>\n",
              "      <td>0.000000</td>\n",
              "      <td>0.000000</td>\n",
              "    </tr>\n",
              "    <tr>\n",
              "      <th>50%</th>\n",
              "      <td>0.000000</td>\n",
              "      <td>0.000000</td>\n",
              "      <td>0.391667</td>\n",
              "    </tr>\n",
              "    <tr>\n",
              "      <th>75%</th>\n",
              "      <td>0.476700</td>\n",
              "      <td>0.233333</td>\n",
              "      <td>0.571429</td>\n",
              "    </tr>\n",
              "    <tr>\n",
              "      <th>max</th>\n",
              "      <td>0.994800</td>\n",
              "      <td>1.000000</td>\n",
              "      <td>1.000000</td>\n",
              "    </tr>\n",
              "  </tbody>\n",
              "</table>\n",
              "</div>"
            ],
            "text/plain": [
              "       vader_compound_score  textblob_polarity  textblob_subjectivity\n",
              "count           9099.000000        9099.000000            9099.000000\n",
              "mean               0.118354           0.098594               0.368981\n",
              "std                0.457355           0.255787               0.296650\n",
              "min               -0.991900          -1.000000               0.000000\n",
              "25%               -0.128000           0.000000               0.000000\n",
              "50%                0.000000           0.000000               0.391667\n",
              "75%                0.476700           0.233333               0.571429\n",
              "max                0.994800           1.000000               1.000000"
            ]
          },
          "metadata": {},
          "execution_count": 18
        }
      ]
    },
    {
      "cell_type": "code",
      "metadata": {
        "colab": {
          "base_uri": "https://localhost:8080/",
          "height": 369
        },
        "id": "Lwkw3xvipxwD",
        "outputId": "affcbd69-c3b8-463c-c527-7df1a393d64a"
      },
      "source": [
        "fig,ax = plt.subplots(1,3,figsize=(15,5))\n",
        "sns.histplot(df.vader_compound_score, bins=50, ax=ax[0])\n",
        "sns.histplot(df.textblob_polarity, bins=50, ax=ax[1])\n",
        "sns.histplot(df.textblob_subjectivity, bins=50, ax=ax[2])\n",
        "fig.tight_layout()"
      ],
      "execution_count": 19,
      "outputs": [
        {
          "output_type": "display_data",
          "data": {
            "image/png": "[encoded data removed]",
            "text/plain": [
              "<Figure size 1080x360 with 3 Axes>"
            ]
          },
          "metadata": {
            "needs_background": "light"
          }
        }
      ]
    },
    {
      "cell_type": "markdown",
      "metadata": {
        "id": "0p-S7Nc_W1D5"
      },
      "source": [
        "**Figure 1: Distributions of VADER compound score (left), TextBlob polarity score (center), and TextBlob subjectivity score (right).**   \n",
        "Interestingly, *the VADER compound scores are more polarized* (i.e. there are more quotes classified as extremely negative or extremely positive compared to the TextBlob predictions), which is also reflected by a higher standard deviation of VADER compared to TextBlob polarity score.  \n",
        "\n",
        "Next, we test how similar a VADER compound score is to a TextBlob polarity score."
      ]
    },
    {
      "cell_type": "code",
      "metadata": {
        "colab": {
          "base_uri": "https://localhost:8080/",
          "height": 491
        },
        "id": "sbKKWPn6_aGP",
        "outputId": "67a110d8-2065-4120-d769-0bd2cb7a2e4b"
      },
      "source": [
        "# Correlation between VADER and TextBlob polarity scores\n",
        "[pearson_vader_textblob, p_vader_textblob] = stats.pearsonr(df['vader_compound_score'], df['textblob_polarity'])\n",
        "print('\\nThere is a moderate (%.2f) and very significant (p=%f) correlation between the VADER compound score and the TextBlob polarity.\\n'%(pearson_vader_textblob, p_vader_textblob))\n",
        "# Make jointplot\n",
        "sns.jointplot(data = df, x = 'vader_compound_score', y = 'textblob_polarity', kind='hex', bins='log')\n",
        "plt.tight_layout()"
      ],
      "execution_count": 20,
      "outputs": [
        {
          "output_type": "stream",
          "name": "stdout",
          "text": [
            "\n",
            "There is a moderate (0.43) and very significant (p=0.000000) correlation between the VADER compound score and the TextBlob polarity.\n",
            "\n"
          ]
        },
        {
          "output_type": "display_data",
          "data": {
            "image/png": "[encoded data removed]",
            "text/plain": [
              "<Figure size 432x432 with 3 Axes>"
            ]
          },
          "metadata": {
            "needs_background": "light"
          }
        }
      ]
    },
    {
      "cell_type": "markdown",
      "metadata": {
        "id": "bCEaBVt4UeNM"
      },
      "source": [
        "**Figure 2: TextBlob polarity score of each quote plotted against the VADER compound score.**  \n",
        "The color of each hexagonal bin represents the number of datapoints in that bin. Note that the colors are represented in a log-scale.  \n",
        "\n",
        "Luckily for us, because VADER and Textblob scores are correlated: quotes which are classified negative by VADER are more likely to also be classified negative by TextBlob. There is still quite some unexplained variance, however, which indicates that there also exists some disagreement between VADER and TextBlob polarity scores.  \n",
        "\n",
        "Lastly, we are interested in the TextBlob subjectivity score, and want to know whether strongly positive or negative quotes are also likely to be subjective. Therefore, we correlate the *absolute value* of the TextBlob compound score with the subjectivity score."
      ]
    },
    {
      "cell_type": "code",
      "metadata": {
        "colab": {
          "base_uri": "https://localhost:8080/",
          "height": 982
        },
        "id": "_hVlOPQJUX6y",
        "outputId": "13da9222-1958-4984-e290-35917e4fb8bf"
      },
      "source": [
        "# Correlation between VADER and TextBlob polarity scores\n",
        "df['abs_textblob_polarity'] = np.abs(df['textblob_polarity'])\n",
        "df['abs_vader_compound'] = np.abs(df['vader_compound_score'])\n",
        "[pearson_polarity_subjectivity, p_polarity_subjectivity] = stats.pearsonr(df['abs_textblob_polarity'],df['textblob_subjectivity'])\n",
        "[pearson_compound_subjectivity, p_compound_subjectivity] = stats.pearsonr(df['abs_vader_compound'],df['textblob_subjectivity'])\n",
        "\n",
        "print('\\nThere is a considerable (%.2f) and very significant (p=%f) correlation between the TextBlob polarity score and the TextBlob subjectivity.\\n'%(pearson_polarity_subjectivity, p_polarity_subjectivity))\n",
        "print('There is a small (%.2f) but very significant (p=%f) correlation between the VADER compound score and the TextBlob subjectivity.\\n'%(pearson_compound_subjectivity, p_compound_subjectivity))\n",
        "\n",
        "# Make jointplots\n",
        "plt.figure();\n",
        "sns.jointplot(data = df, x = 'abs_textblob_polarity', y = 'textblob_subjectivity', kind='hex', bins='log')\n",
        "plt.figure();\n",
        "sns.jointplot(data = df, x = 'abs_vader_compound', y = 'textblob_subjectivity', kind='hex', bins='log')\n",
        "plt.tight_layout()"
      ],
      "execution_count": 21,
      "outputs": [
        {
          "output_type": "stream",
          "name": "stdout",
          "text": [
            "\n",
            "There is a considerable (0.63) and very significant (p=0.000000) correlation between the TextBlob polarity score and the TextBlob subjectivity.\n",
            "\n",
            "There is a small (0.28) but very significant (p=0.000000) correlation between the VADER compound score and the TextBlob subjectivity.\n",
            "\n"
          ]
        },
        {
          "output_type": "display_data",
          "data": {
            "text/plain": [
              "<Figure size 432x288 with 0 Axes>"
            ]
          },
          "metadata": {}
        },
        {
          "output_type": "display_data",
          "data": {
            "image/png": "[encoded data removed]",
            "text/plain": [
              "<Figure size 432x432 with 3 Axes>"
            ]
          },
          "metadata": {
            "needs_background": "light"
          }
        },
        {
          "output_type": "display_data",
          "data": {
            "text/plain": [
              "<Figure size 432x288 with 0 Axes>"
            ]
          },
          "metadata": {}
        },
        {
          "output_type": "display_data",
          "data": {
            "image/png": "[encoded data removed]",
            "text/plain": [
              "<Figure size 432x432 with 3 Axes>"
            ]
          },
          "metadata": {
            "needs_background": "light"
          }
        }
      ]
    },
    {
      "cell_type": "markdown",
      "metadata": {
        "id": "WBrlXeaBfeU7"
      },
      "source": [
        "**Figure 3: TextBlob's subjectivity versus the absolute value of polarity (top) and TextBlob's  subjectivity versus the absolute value of VADER's compound score (bottom).**  \n",
        "The subjectivity score moderately correlate with TextBlob's polarity, but the correlation with the VADER compound score is small."
      ]
    },
    {
      "cell_type": "markdown",
      "metadata": {
        "id": "cCMywleB16Of"
      },
      "source": [
        "# **3. Conclusion**\n",
        "Here, we tested three sentiment analysis tools: Flair, VADER and TextBlob. \n",
        "\n",
        "- Flair did not generalize well to simple examples of negative text, and therefore we excluded it.\n",
        "- VADER and TextBlob are both fast (**predict time is roughly 3 seconds for 9099 quotations**) and seem to have similar performance. For roughly 30% of the examples, TextBlob's subjectivity score is not accurate.  \n",
        "\n",
        "Since VADER and TextBlob have similar performance, for our project **we choose the tool that is currently most popular for sentiment analysis:&#160;VADER** (see [here](https://www.analyticsvidhya.com/blog/2021/10/sentiment-analysis-with-textblob-and-vader/) for a comparison between VADER and TextBlob on crowdsourcing data, which concludes that VADER outperforms TextBlob, and [here](https://medium.com/backyard-programmers/sentiment-analysis-of-stock-news-using-vader-5ba554d7cc19) for an example where VADER was applied to sentiment analysis of news articles).\n"
      ]
    },
    {
      "cell_type": "markdown",
      "metadata": {
        "id": "oQXM379A7PcJ"
      },
      "source": [
        "## 3.1 Feasibility"
      ]
    },
    {
      "cell_type": "markdown",
      "metadata": {
        "id": "c4bgqKDY7TGr"
      },
      "source": [
        "To evaluate the feasibility of our chosen tool, VADER, we will test again the time it takes to evaluate the sentiment on our sample dataset to get a better idea of its performances."
      ]
    },
    {
      "cell_type": "code",
      "metadata": {
        "colab": {
          "base_uri": "https://localhost:8080/"
        },
        "id": "AV3cQ9wH7MOw",
        "outputId": "d9b51934-3081-44ed-bf7a-65052bbfe1d9"
      },
      "source": [
        "%%timeit -n 5\n",
        "df.quotation.apply(get_vader_compound_score)"
      ],
      "execution_count": 22,
      "outputs": [
        {
          "output_type": "stream",
          "name": "stdout",
          "text": [
            "2.84 s ± 14.4 ms per loop (mean ± std. dev. of 7 runs, 5 loops each)\n"
          ]
        }
      ]
    },
    {
      "cell_type": "markdown",
      "metadata": {
        "id": "4zyOFbPf8QeY"
      },
      "source": [
        "On average, the sentiment evaluation takes a bit less than 3s for 9099 quotes. After preprocessing, our filtered dataset will be composed of around 12 milion entries, accounting for all years in the timespan 2015-2020. Scaling linearly, thus, we expect the Sentiment Analysis to take a little more than 1 hour in total. \n",
        "In practice, despite this is already a perfectly feasible time, we will probably need much less rows, because we want to construct opinions and place on our compass only politicians with a certain minimum number of quotes."
      ]
    },
    {
      "cell_type": "markdown",
      "metadata": {
        "id": "0TW6jyQ_5WiC"
      },
      "source": [
        "# **4. References**\n",
        "[1] Hutto, C., & Gilbert, E. (2014). *VADER: A Parsimonious Rule-Based Model for Sentiment Analysis of Social Media Text.* Proceedings of the International AAAI Conference on Web and Social Media, 8(1), 216–225.  "
      ]
    }
  ]
}